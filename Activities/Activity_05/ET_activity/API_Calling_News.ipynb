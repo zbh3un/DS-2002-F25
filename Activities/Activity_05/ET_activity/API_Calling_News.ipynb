{
 "cells": [
  {
   "cell_type": "markdown",
   "id": "839e7f26-f9e5-4a6d-b967-8bb46edfdc1f",
   "metadata": {},
   "source": [
    "# Data Acquisition via API Calls (NewsAPI)"
   ]
  },
  {
   "cell_type": "markdown",
   "id": "0727af3f-4ad7-48dc-b815-618b279fe27e",
   "metadata": {},
   "source": [
    "---"
   ]
  },
  {
   "cell_type": "markdown",
   "id": "06ad6eae-a4a2-4229-8cc7-3e66c6003f73",
   "metadata": {},
   "source": [
    "## Phase 1: Setup and Security"
   ]
  },
  {
   "cell_type": "markdown",
   "id": "4b38d294-14bd-45b0-a556-cda81bc7334b",
   "metadata": {},
   "source": [
    "### Install Dependencies"
   ]
  },
  {
   "cell_type": "code",
   "execution_count": 16,
   "id": "434cfda4-9de8-4cc6-a23d-89da51b23f6d",
   "metadata": {},
   "outputs": [
    {
     "name": "stdout",
     "output_type": "stream",
     "text": [
      "Requirement already satisfied: python-dotenv in /usr/local/python/3.12.1/lib/python3.12/site-packages (1.1.1)\n",
      "\n",
      "\u001b[1m[\u001b[0m\u001b[34;49mnotice\u001b[0m\u001b[1;39;49m]\u001b[0m\u001b[39;49m A new release of pip is available: \u001b[0m\u001b[31;49m25.1.1\u001b[0m\u001b[39;49m -> \u001b[0m\u001b[32;49m25.2\u001b[0m\n",
      "\u001b[1m[\u001b[0m\u001b[34;49mnotice\u001b[0m\u001b[1;39;49m]\u001b[0m\u001b[39;49m To update, run: \u001b[0m\u001b[32;49mpython3 -m pip install --upgrade pip\u001b[0m\n",
      "Dependencies installed successfully.\n"
     ]
    }
   ],
   "source": [
    "# Install the necessary library for loading environment variables (like API keys)\n",
    "!pip install python-dotenv\n",
    "\n",
    "print(\"Dependencies installed successfully.\")"
   ]
  },
  {
   "cell_type": "markdown",
   "id": "2c1f2e3a-048f-4fe2-858c-75dc46293f49",
   "metadata": {},
   "source": [
    "### Import Modules\n",
    "Import all necessary Python libraries. Note that `requests` is the primary tool for submitting HTTP requests."
   ]
  },
  {
   "cell_type": "code",
   "execution_count": 17,
   "id": "04207cb4-b746-4365-82ca-09fcde405c76",
   "metadata": {},
   "outputs": [
    {
     "name": "stdout",
     "output_type": "stream",
     "text": [
      "Modules imported.\n"
     ]
    }
   ],
   "source": [
    "import numpy as np\n",
    "import pandas as pd\n",
    "import os\n",
    "import requests\n",
    "import json\n",
    "import dotenv\n",
    "from datetime import datetime\n",
    "\n",
    "print(\"Modules imported.\")"
   ]
  },
  {
   "cell_type": "markdown",
   "id": "bbcd31b8-25bf-4434-904c-5a2d7596f1c7",
   "metadata": {},
   "source": [
    "### Load Environment Variables\n",
    "This loads your `.env` file, which is crucial for securely handling your NewsAPI key without exposing it in the notebook."
   ]
  },
  {
   "cell_type": "code",
   "execution_count": 18,
   "id": "6ffaead9-f975-4669-91ea-8221892a28de",
   "metadata": {},
   "outputs": [
    {
     "name": "stdout",
     "output_type": "stream",
     "text": [
      "Environment variables loaded.\n"
     ]
    }
   ],
   "source": [
    "# Load the .env file to access environment variables (e.g., your API Key)\n",
    "dotenv.load_dotenv()\n",
    "\n",
    "print(\"Environment variables loaded.\")"
   ]
  },
  {
   "cell_type": "markdown",
   "id": "7071af15-2cb5-4ef1-98d6-04ff935dbd04",
   "metadata": {},
   "source": [
    "### Retrieve API Key\n",
    "We access the stored API key using os.getenv()."
   ]
  },
  {
   "cell_type": "code",
   "execution_count": 19,
   "id": "d99c4807-4efb-43a2-8236-a54339673626",
   "metadata": {},
   "outputs": [
    {
     "name": "stdout",
     "output_type": "stream",
     "text": [
      "News API key successfully retrieved.\n"
     ]
    }
   ],
   "source": [
    "# Get the News API key from the environment variables\n",
    "newskey = os.getenv('newskey')\n",
    "\n",
    "# We won't print the key, but we confirm it's loaded (e.g., by checking its length)\n",
    "if newskey:\n",
    "    print(\"News API key successfully retrieved.\")\n",
    "else:\n",
    "    print(\"ERROR: News API key not found. Check your .env file.\")"
   ]
  },
  {
   "cell_type": "markdown",
   "id": "2c2de509-7b66-49ff-8d14-b77ad7a60c14",
   "metadata": {},
   "source": [
    "---"
   ]
  },
  {
   "cell_type": "markdown",
   "id": "e71f2ee3-a1d5-4232-851e-4f934a6e2417",
   "metadata": {},
   "source": [
    "## Phase 2: Building the API Request Components\n",
    "An HTTP request requires four main components: URL root, endpoint, headers (for security/metadata), and parameters (the query)."
   ]
  },
  {
   "cell_type": "markdown",
   "id": "4e120544-61cb-46d2-b5a1-045d95df4a2f",
   "metadata": {},
   "source": [
    "### Build User Agent Header\n",
    "Many APIs require a User-agent to identify the client application. We use httpbin.org to dynamically grab a standard User-agent string."
   ]
  },
  {
   "cell_type": "code",
   "execution_count": null,
   "id": "d399ea8a-2f04-46da-8fdd-09436ee2b51d",
   "metadata": {},
   "outputs": [
    {
     "name": "stdout",
     "output_type": "stream",
     "text": [
      "User-agent: python-requests/2.32.4\n",
      "Headers dictionary created, containing the API key.\n"
     ]
    }
   ],
   "source": [
    "# 1. Get a standard User-agent string\n",
    "r = requests.get('https://httpbin.org/user-agent')\n",
    "useragent = json.loads(r.text)['user-agent']\n",
    "\n",
    "# 2. Build the full headers dictionary\n",
    "# The API key is sent via the 'X-Api-Key' header, a common secure method.\n",
    "headers = {'User-agent': useragent,\n",
    "           'X-Api-Key': newskey}\n",
    "\n",
    "print(f\"User-agent: {useragent}\")\n",
    "print(\"Headers dictionary created, containing the API key.\")"
   ]
  },
  {
   "cell_type": "markdown",
   "id": "3058069f-4e41-414d-aac2-bfb8e506693e",
   "metadata": {},
   "source": [
    "### Define URL Root and Endpoint\n",
    "This defines the fixed address for the NewsAPI service we want to use."
   ]
  },
  {
   "cell_type": "code",
   "execution_count": 21,
   "id": "f690335c-d0f0-4d1d-91ae-8aac3e9a742c",
   "metadata": {},
   "outputs": [
    {
     "name": "stdout",
     "output_type": "stream",
     "text": [
      "API Base URL: https://newsapi.org/v2/everything\n"
     ]
    }
   ],
   "source": [
    "# Define the fixed URL parts\n",
    "root = 'https://newsapi.org'\n",
    "endpoint = '/v2/everything' # This endpoint searches all articles\n",
    "\n",
    "print(f\"API Base URL: {root + endpoint}\")"
   ]
  },
  {
   "cell_type": "markdown",
   "id": "4ab99c91-4fc4-451c-8986-0a8ee6856ebc",
   "metadata": {},
   "source": [
    "### Define Query Parameters\n",
    "Parameters are used to customize the search (e.g., topic, language, date)."
   ]
  },
  {
   "cell_type": "code",
   "execution_count": 22,
   "id": "14b6b582-fbda-4307-9150-7386f0a17e45",
   "metadata": {},
   "outputs": [
    {
     "name": "stdout",
     "output_type": "stream",
     "text": [
      "Query parameters defined:\n",
      "{'q': '\"tallest mountain\"', 'searchIn': 'content', 'language': 'en', 'pageSize': 100}\n"
     ]
    }
   ],
   "source": [
    "# Define the search parameters as a Python dictionary\n",
    "params = {'q': '\"tallest mountain\"',  # Topic to search for (using quotes for exact phrase)\n",
    "         'searchIn': 'content',      # Search within the article content\n",
    "         'language': 'en',           # Restrict to English articles\n",
    "         'pageSize': 100}            # Request up to 100 articles\n",
    "\n",
    "print(\"Query parameters defined:\")\n",
    "print(params)"
   ]
  },
  {
   "cell_type": "markdown",
   "id": "f9eaced6-2b38-40f9-9cae-66dd7294ea43",
   "metadata": {},
   "source": [
    "---"
   ]
  },
  {
   "cell_type": "markdown",
   "id": "e9c4b522-db1d-4987-bf70-19bb40be3b1e",
   "metadata": {},
   "source": [
    "## Phase 3: API Execution and Parsing"
   ]
  },
  {
   "cell_type": "markdown",
   "id": "78ca83bb-3417-473c-8ba6-18dbaee32bc7",
   "metadata": {},
   "source": [
    "### Submit the GET Request\n",
    "This cell sends the request and checks the response status. A `<Response [200]>` indicates success."
   ]
  },
  {
   "cell_type": "code",
   "execution_count": 23,
   "id": "9bd9fbca-d7b3-4a0e-a116-b25264f725c2",
   "metadata": {},
   "outputs": [
    {
     "name": "stdout",
     "output_type": "stream",
     "text": [
      "Request submitted. Status: <Response [200]>\n"
     ]
    }
   ],
   "source": [
    "# Combine the components and submit the GET request\n",
    "r = requests.get(root + endpoint,\n",
    "                headers = headers,\n",
    "                params = params)\n",
    "\n",
    "# Display the response object (it should show <Response [200]>)\n",
    "print(f\"Request submitted. Status: {r}\")"
   ]
  },
  {
   "cell_type": "markdown",
   "id": "3bafe96c-249e-4b75-98e5-a953a978b3ff",
   "metadata": {},
   "source": [
    "### Parse the JSON Response\n",
    "The response (`r.text`) is a single string containing the JSON data. We use `json.loads()` to convert this string into a usable Python dictionary."
   ]
  },
  {
   "cell_type": "code",
   "execution_count": 24,
   "id": "d7083f83-3758-40d2-afb7-ee9807e8e28e",
   "metadata": {},
   "outputs": [
    {
     "name": "stdout",
     "output_type": "stream",
     "text": [
      "JSON response converted to a Python dictionary (Type: <class 'dict'>)\n",
      "Top-level keys in the response:\n",
      "['status', 'totalResults', 'articles']\n"
     ]
    }
   ],
   "source": [
    "# Convert the JSON response string into a Python dictionary\n",
    "myjson = json.loads(r.text)\n",
    "\n",
    "print(f\"JSON response converted to a Python dictionary (Type: {type(myjson)})\")\n",
    "print(\"Top-level keys in the response:\")\n",
    "print(list(myjson.keys()))"
   ]
  },
  {
   "cell_type": "markdown",
   "id": "31cb5910-e2e1-4536-9bd9-5eb4b306456c",
   "metadata": {},
   "source": [
    "### View Raw JSON Data Structure (Optional)\n",
    "This cell is often left commented out to avoid printing a massive wall of text but serves as a way to inspect the data structure."
   ]
  },
  {
   "cell_type": "code",
   "execution_count": 25,
   "id": "c0c3b976-b308-4c0c-93d7-246994bb28df",
   "metadata": {},
   "outputs": [
    {
     "name": "stdout",
     "output_type": "stream",
     "text": [
      "{\n",
      "    \"status\": \"ok\",\n",
      "    \"totalResults\": 25,\n",
      "    \"articles\": [\n",
      "        {\n",
      "            \"source\": {\n",
      "                \"id\": null,\n",
      "                \"name\": \"Travel+Leisure\"\n",
      "            },\n",
      "            \"author\": \"Lydia Mansel\",\n",
      "            \"title\": \"This Historic Train Climbs the Tallest Mountain in New England\\u2014and It Has Prime Fall Foliage Views\",\n",
      "            \"description\": \"Riding the Mount Washington Cog Railway is one of New Hampshire\\u2019s best fall activities.\",\n",
      "            \"url\": \"https://www.travelandleisure.com/mount-washington-cog-railway-11811822\",\n",
      "            \"urlToImage\": \"https://s.yimg.com/ny/api/res/1.2/JmSXRiaGiWkvo0dJZZpjtA--/YXBwaWQ9aGlnaGxhbmRlcjt3PTEyMDA7aD04MDA7Y2Y9d2VicA--/https://media.zenfs.com/en/travel.travelleisure.com/2654c3069824fb4165c481864c595072\",\n",
      "            \"publishedAt\": \"2025-09-20T16:00:00Z\",\n",
      "            \"content\": \"Key Points\\r\\n<ul><li>The Mount Washington Cog Railway offers a steep, scenic ride through New Hampshire's vibrant fall foliage up to the summit of the tallest mountain in New England.\\r\\n</li><li>It was\\u2026 [+5295 chars]\"\n",
      "        },\n",
      "        {\n",
      "            \"source\": {\n",
      "                \"id\": null,\n",
      "                \"name\": \"The Indian Express\"\n",
      "            },\n",
      "            \"author\": \"Express Web Desk\",\n",
      "            \"title\": \"Polish skier becomes first to climb, ski down Everest without bottled oxygen\",\n",
      "            \"description\": \"In 2018, the Polish climber was the first person to ski down Pakistan\\u2019s K2, the second highest mountain in the world.\",\n",
      "            \"url\": \"https://indianexpress.com/article/world/polish-skier-first-climb-ski-down-everest-without-bottled-oxygen-10275916/\",\n",
      "            \"urlToImage\": \"https://images.indianexpress.com/2025/09/poland-everest.jpg\",\n",
      "            \"publishedAt\": \"2025-09-28T04:50:59Z\",\n",
      "            \"content\": \"Polish skier Andrzej Bargiel made history this week as the first person to have climbed and skied down Mount Everest without the aid of bottled oxygen, The New York Times reported.The journey was Bar\\u2026 [+2103 chars]\"\n",
      "        },\n",
      "        {\n",
      "            \"source\": {\n",
      "                \"id\": null,\n",
      "                \"name\": \"The-sun.com\"\n",
      "            },\n",
      "            \"author\": \"Georgie English\",\n",
      "            \"title\": \"CLEAREST EVER SIGNS OF LIFE ON MARS...\",\n",
      "            \"description\": \"NASA has revealed the clearest signs of life on Mars ever after making an incredible rover discovery. Evidence of ancient alien microbes have been uncovered in a dry river channel formed roughly 3.\\u2026\",\n",
      "            \"url\": \"https://www.the-sun.com/tech/15159152/nasa-mars-discovery-rover-evidence-alien-microbes/\",\n",
      "            \"urlToImage\": \"https://www.the-sun.com/wp-content/uploads/sites/6/2025/09/newspress-collage-gmql96r0u-1757519881176.jpg?1757505668&strip=all&quality=100&w=1920&h=1080&crop=1\",\n",
      "            \"publishedAt\": \"2025-09-10T17:34:37Z\",\n",
      "            \"content\": \"NASA has revealed the clearest signs of life on Mars ever after making an incredible rover discovery. \\r\\nEvidence of ancient alien microbes have been uncovered in a dry river channel formed roughly 3.\\u2026 [+4167 chars]\"\n",
      "        },\n",
      "        {\n",
      "            \"source\": {\n",
      "                \"id\": \"abc-news-au\",\n",
      "                \"name\": \"ABC News (AU)\"\n",
      "            },\n",
      "            \"author\": \"ABC News\",\n",
      "            \"title\": \"Sudan landslide claims 1,000 lives, village 'completely levelled'\",\n",
      "            \"description\": \"The Sudan Liberation Movement/Army is appealing to the United Nations to help recover the bodies of victims from a deadly landslide that destroyed a village in the Marra Mountains.\",\n",
      "            \"url\": \"https://www.abc.net.au/news/2025-09-02/sudan-landslide-kills-at-least-1000-people-in-marra-mountains/105724084\",\n",
      "            \"urlToImage\": \"https://live-production.wcms.abc-cdn.net.au/7301798c9761fdc5f033a6d562f6a540?impolicy=wcms_watermark_news&cropH=2813&cropW=5000&xPos=0&yPos=260&width=862&height=485&imformat=generic\",\n",
      "            \"publishedAt\": \"2025-09-02T07:52:51Z\",\n",
      "            \"content\": \"At least 1,000 people were killed in a landslide that destroyed a village in the Marra Mountains area of western Sudan, leaving only one survivor, according to the Sudan Liberation Movement/Army.\\r\\nTh\\u2026 [+2315 chars]\"\n",
      "        },\n",
      "        {\n",
      "            \"source\": {\n",
      "                \"id\": null,\n",
      "                \"name\": \"Live Science\"\n",
      "            },\n",
      "            \"author\": \"sascha.pare@futurenet.com (Sascha Pare) , Sascha Pare\",\n",
      "            \"title\": \"The geology that holds up the Himalayas is not what we thought, scientists discover\",\n",
      "            \"description\": \"A 100-year-old theory explaining how Asia can carry the huge weight of the Himalayas and Tibetan Plateau needs to be rewritten, a new study suggests.\",\n",
      "            \"url\": \"https://www.livescience.com/planet-earth/geology/the-geology-that-holds-up-the-himalayas-is-not-what-we-thought-scientists-discover\",\n",
      "            \"urlToImage\": \"https://cdn.mos.cms.futurecdn.net/KMwyEqed8eMTSuC4VDgZM4.jpg\",\n",
      "            \"publishedAt\": \"2025-08-30T15:50:00Z\",\n",
      "            \"content\": \"Scientists may have just toppled a 100-year-old theory about what holds up the highest mountain range on Earth, new research shows.\\r\\nThe Himalayan mountains formed in the collision between the Asian \\u2026 [+5517 chars]\"\n",
      "        },\n",
      "        {\n",
      "            \"source\": {\n",
      "                \"id\": \"rte\",\n",
      "                \"name\": \"RTE\"\n",
      "            },\n",
      "            \"author\": \"RT\\u00c9 News\",\n",
      "            \"title\": \"Sudan landslide kills more than 1,000, says rebel group\",\n",
      "            \"description\": \"A \\\"massive\\\" landslide in Sudan's western Darfur region has flattened an entire mountain village and killed more than 1,000 people, leaving just one survivor, a rebel group that controls the area has said.\",\n",
      "            \"url\": \"https://www.rte.ie/news/world/2025/0902/1531319-sudan-landslide/\",\n",
      "            \"urlToImage\": \"https://www.rte.ie/images/00231b4a-1600.jpg\",\n",
      "            \"publishedAt\": \"2025-09-02T06:17:44Z\",\n",
      "            \"content\": \"A \\\"massive\\\" landslide in Sudan's western Darfur region has flattened an entire mountain village and killed more than 1,000 people, leaving just one survivor, a rebel group that controls the area has \\u2026 [+2528 chars]\"\n",
      "        },\n",
      "        {\n",
      "            \"source\": {\n",
      "                \"id\": null,\n",
      "                \"name\": \"SoraNews24\"\n",
      "            },\n",
      "            \"author\": \"Casey Baseel\",\n",
      "            \"title\": \"All Mt. Fuji summit trails are now closed as hiking season ends\",\n",
      "            \"description\": \"But as one season of Fuji fun ends, another is just beginning. Mt. Fuji may be a timeless symbol of Japan, but that doesn\\u2019t mean that people can hike it anytime they want, and as of Wednesday, Japan\\u2019s tallest mountain is closed. There are four trails that lea\\u2026\",\n",
      "            \"url\": \"https://soranews24.com/2025/09/11/all-mt-fuji-summit-trails-are-now-closed-as-hiking-season-ends/\",\n",
      "            \"urlToImage\": \"https://soranews24.com/wp-content/uploads/sites/3/2025/09/fc-1.jpg?w=580&h=305&crop=1\",\n",
      "            \"publishedAt\": \"2025-09-10T17:30:07Z\",\n",
      "            \"content\": \"But as one season of Fuji fun ends, another is just beginning.\\r\\nMt. Fuji may be a timeless symbol of Japan, but that doesnt mean that people can hike it anytime they want, and as of Wednesday, Japans\\u2026 [+3156 chars]\"\n",
      "        },\n",
      "        {\n",
      "            \"source\": {\n",
      "                \"id\": null,\n",
      "                \"name\": \"Sky.com\"\n",
      "            },\n",
      "            \"author\": null,\n",
      "            \"title\": \"Trump to rebrand the Pentagon as the 'Department of War'\",\n",
      "            \"description\": \"The president's controversial move could cost tens of millions, with letterheads and building signs in the US and at military bases around the world potentially needing a refresh.\",\n",
      "            \"url\": \"https://news.sky.com/story/trump-to-rebrand-the-pentagon-as-the-department-of-war-13425267\",\n",
      "            \"urlToImage\": \"https://e3.365dm.com/25/09/1600x900/skynews-donald-trump-us-army_7011567.jpg?20250905032516\",\n",
      "            \"publishedAt\": \"2025-09-05T01:06:00Z\",\n",
      "            \"content\": \"Donald Trump is to rebrand the US Department of Defense as the \\\"Department of War\\\", according to the White House.\\r\\nThe president will today sign an executive order allowing it to be used as a seconda\\u2026 [+1958 chars]\"\n",
      "        },\n",
      "        {\n",
      "            \"source\": {\n",
      "                \"id\": null,\n",
      "                \"name\": \"TheJournal.ie\"\n",
      "            },\n",
      "            \"author\": \"AFP\",\n",
      "            \"title\": \"More than 1,000 people killed in massive landslide in Sudan after days of heavy rain\",\n",
      "            \"description\": \"The disaster struck Sunday after days of heavy rain, devastating the village of Tarasin in the Marra mountains.\",\n",
      "            \"url\": \"https://www.thejournal.ie/landslide-darfur-sudan-6805129-Sep2025/\",\n",
      "            \"urlToImage\": \"https://img2.thejournal.ie/article/6805129/river/?height=400&version=6805138\",\n",
      "            \"publishedAt\": \"2025-09-02T06:30:05Z\",\n",
      "            \"content\": \"A MASSIVE LANDSLIDE in Sudans western Darfur region has flattened an entire mountain village and killed more than 1,000 people, a rebel group that controls the area said late Monday, adding there was\\u2026 [+2538 chars]\"\n",
      "        },\n",
      "        {\n",
      "            \"source\": {\n",
      "                \"id\": null,\n",
      "                \"name\": \"My Modern Met\"\n",
      "            },\n",
      "            \"author\": \"Eva Baron\",\n",
      "            \"title\": \"102-Year-Old Man Becomes the Oldest Person to Ever Summit Mount Fuji\",\n",
      "            \"description\": \"102-Year-Old Man Becomes the Oldest Person to Ever Summit Mount Fuji\\nScaling Mount Fuji can be an enormous task at any age\\u2014after all, it stands as Japan\\u2019s tallest mountain at 12,388 feet. Despite all that, Kokichi Akuzawa recently defied expectation, becoming\\u2026\",\n",
      "            \"url\": \"https://mymodernmet.com/102-year-old-man-mount-fuji-world-record/\",\n",
      "            \"urlToImage\": \"https://mymodernmet.com/wp/wp-content/uploads/2025/09/102-Year-Old-Mount-Fuji-thumbnail-1.jpg\",\n",
      "            \"publishedAt\": \"2025-09-10T20:15:34Z\",\n",
      "            \"content\": \"Scaling Mount Fuji can be an enormous task at any age\\u2014after all, it stands as Japan\\u2019s tallest mountain at 12,388 feet. Despite all that, Kokichi Akuzawa recently defied expectation, becoming the olde\\u2026 [+3022 chars]\"\n",
      "        },\n",
      "        {\n",
      "            \"source\": {\n",
      "                \"id\": null,\n",
      "                \"name\": \"Sky.com\"\n",
      "            },\n",
      "            \"author\": null,\n",
      "            \"title\": \"Trump rebrands Pentagon as the Department of War\",\n",
      "            \"description\": \"President Trump has signed an executive order rebranding the US Department of Defense as the Department of War.\",\n",
      "            \"url\": \"https://news.sky.com/story/president-trump-signs-order-rebranding-pentagon-as-the-department-of-war-13425876\",\n",
      "            \"urlToImage\": \"https://e3.365dm.com/25/09/1600x900/skynews-trump-hegseth-war_7012536.jpg?20250906012322\",\n",
      "            \"publishedAt\": \"2025-09-06T00:16:00Z\",\n",
      "            \"content\": \"President Trump has signed an executive order rebranding the US Department of Defense as the Department of War.\\r\\nHe called the original name \\\"woke\\\" and said the new title sent \\\"a message of victory\\\" \\u2026 [+2932 chars]\"\n",
      "        },\n",
      "        {\n",
      "            \"source\": {\n",
      "                \"id\": null,\n",
      "                \"name\": \"Japan Today\"\n",
      "            },\n",
      "            \"author\": null,\n",
      "            \"title\": \"Japanese man becomes oldest to summit Mount Fuji at 102 with help from his family\",\n",
      "            \"description\": \"Kokichi Akuzawa almost gave up during his trek to became the oldest person to reach summit of Mount Fuji at age 102, an achievement recognized by Guinness World Records after he reached the top in early August. \\u201cI was really tempted to give up halfway through\\u2026\",\n",
      "            \"url\": \"https://japantoday.com/category/national/japanese-man-becomes-oldest-to-summit-mount-fuji-at-102-with-help-from-his-family\",\n",
      "            \"urlToImage\": null,\n",
      "            \"publishedAt\": \"2025-09-05T20:51:11Z\",\n",
      "            \"content\": \"Kokichi Akuzawa almost gave up during his trek to became the oldest person to reach summit of Mount Fuji at age 102, an achievement recognized by Guinness World Records after he reached the top in ea\\u2026 [+3797 chars]\"\n",
      "        },\n",
      "        {\n",
      "            \"source\": {\n",
      "                \"id\": \"abc-news\",\n",
      "                \"name\": \"ABC News\"\n",
      "            },\n",
      "            \"author\": \"REENO HASHIMOTO Associated Press\",\n",
      "            \"title\": \"102-year-old becomes oldest person to summit Mount Fuji\",\n",
      "            \"description\": \"Kokichi Akuzawa has become the oldest person to summit Mount Fuji at age 102, an achievement recognized by Guinness World Records after he reached the top\",\n",
      "            \"url\": \"https://abcnews.go.com/International/wireStory/102-year-oldest-person-summit-mount-fuji-125279784\",\n",
      "            \"urlToImage\": \"https://i.abcnewsfe.com/a/135a5341-e356-4033-81d1-fc45780a6a40/wirestory_b9d24c63e28568f76fa32d0cef9131ec_16x9.jpg?w=1600\",\n",
      "            \"publishedAt\": \"2025-09-05T06:30:18Z\",\n",
      "            \"content\": \"MAEBASHI, Japan -- Kokichi Akuzawa almost gave up during his trek to became the oldest person to summit Mount Fuji at age 102, an achievement recognized by Guinness World Records after he reached the\\u2026 [+3640 chars]\"\n",
      "        },\n",
      "        {\n",
      "            \"source\": {\n",
      "                \"id\": null,\n",
      "                \"name\": \"The Japan Times\"\n",
      "            },\n",
      "            \"author\": \"Tomoko Otake\",\n",
      "            \"title\": \"Taiwan showcases chipmaking prowess as a private exhibitor at Osaka Expo\",\n",
      "            \"description\": \"The expo\\u2019s guidebook makes only brief references to Taiwan's food and lifestyles, but the structure of its pavilion and exhibits are rich in symbolism.\",\n",
      "            \"url\": \"https://www.japantimes.co.jp/news/2025/09/26/japan/taiwan-osaka-expo/\",\n",
      "            \"urlToImage\": \"https://www.japantimes.co.jp/japantimes/uploads/images/2025/09/26/496132.jpg?v=3.1\",\n",
      "            \"publishedAt\": \"2025-09-26T01:32:00Z\",\n",
      "            \"content\": \"Osaka With the finale of the Osaka Expo less than three weeks away, one pavilion called the Tech World has been drawing crowds, with immersive digital exhibits emphasizing the role of semiconductors \\u2026 [+595 chars]\"\n",
      "        },\n",
      "        {\n",
      "            \"source\": {\n",
      "                \"id\": null,\n",
      "                \"name\": \"Irunfar.com\"\n",
      "            },\n",
      "            \"author\": \"Guest Writer\",\n",
      "            \"title\": \"A Foreigner\\u2019s Incomplete Guide to Running in Seoul, South Korea\",\n",
      "            \"description\": \"The post A Foreigner\\u2019s Incomplete Guide to Running in Seoul, South Korea appeared first on iRunFar.\\nAn introduction to trail running around Seoul, South Korea. \\nA Foreigner\\u2019s Incomplete Guide to Running in Seoul, South Korea by Guest Writer.\",\n",
      "            \"url\": \"https://www.irunfar.com/a-foreigners-incomplete-guide-to-running-in-seoul-south-korea\",\n",
      "            \"urlToImage\": \"https://s3.amazonaws.com/www.irunfar.com/wp-content/uploads/2025/08/15160503/Seoul-Running-The-author-pleased-to-arrive-at-Munsubong-summit-feature.jpg\",\n",
      "            \"publishedAt\": \"2025-09-03T10:00:30Z\",\n",
      "            \"content\": \"[Editors Note: Welcome back to our Destination Dirt series! In this article, guest contributor Kyle Fulmer offers an introduction to trail running in Seoul, South Korea. If you live anywhere in the w\\u2026 [+12097 chars]\"\n",
      "        },\n",
      "        {\n",
      "            \"source\": {\n",
      "                \"id\": null,\n",
      "                \"name\": \"Tom's Hardware UK\"\n",
      "            },\n",
      "            \"author\": \"ashilov@gmail.com (Anton Shilov) , Anton Shilov\",\n",
      "            \"title\": \"China's largest foundry testing first domestic immersion DUV lithography tool \\u2014 SMIC takes significant step on road to wafer fab equipment self-sufficiency\",\n",
      "            \"description\": \"SMIC is testing a domestically built immersion DUV lithography system developed by Yuliangsheng and capable of 28nm-class process technology. But while it is said that the tool could be used to make 7nm or even 5nm-class chips with multipatterning, it remains\\u2026\",\n",
      "            \"url\": \"https://www.tomshardware.com/tech-industry/semiconductors/chinas-largest-foundry-testing-first-domestic-immersion-duv-lithography-tool-smic-takes-significant-step-on-road-to-wafer-fab-equipment-self-sufficiency\",\n",
      "            \"urlToImage\": \"https://cdn.mos.cms.futurecdn.net/5Mq4J9jfCyPqV9qsyhUWe8.jpg\",\n",
      "            \"publishedAt\": \"2025-09-17T14:11:15Z\",\n",
      "            \"content\": \"SMIC, the largest foundry in China, is test-driving one of China's first domestic immersion DUV lithography tools, reports Financial Times. The system was developed by Shanghai Yuliangsheng Technolog\\u2026 [+3675 chars]\"\n",
      "        },\n",
      "        {\n",
      "            \"source\": {\n",
      "                \"id\": null,\n",
      "                \"name\": \"Nvidia.com\"\n",
      "            },\n",
      "            \"author\": \"Ivan Goldwasser\",\n",
      "            \"title\": \"Accelerate Large-Scale LLM Inference and KV Cache Offload with CPU-GPU Memory Sharing\",\n",
      "            \"description\": \"Large Language Models (LLMs) are at the forefront of AI innovation, but their massive size can complicate inference efficiency. Models such as Llama 3 70B and...\",\n",
      "            \"url\": \"https://developer.nvidia.com/blog/accelerate-large-scale-llm-inference-and-kv-cache-offload-with-cpu-gpu-memory-sharing/\",\n",
      "            \"urlToImage\": \"https://developer-blogs.nvidia.com/wp-content/uploads/2025/09/LLM-Large-Scale.jpg\",\n",
      "            \"publishedAt\": \"2025-09-05T17:24:19Z\",\n",
      "            \"content\": \"Large Language Models (LLMs) are at the forefront of AI innovation, but their massive size can complicate inference efficiency. Models such as Llama 3 70B and Llama 4 Scout 109B may require more memo\\u2026 [+7295 chars]\"\n",
      "        },\n",
      "        {\n",
      "            \"source\": {\n",
      "                \"id\": \"the-times-of-india\",\n",
      "                \"name\": \"The Times of India\"\n",
      "            },\n",
      "            \"author\": \"AP\",\n",
      "            \"title\": \"102-year-old becomes oldest person to summit Mount Fuji\",\n",
      "            \"description\": \"Kokichi Akuzawa achieved a remarkable feat. At 102, he scaled Mount Fuji. Guinness World Records recognized his achievement. Akuzawa faced challenges during the climb. He was supported by his family and friends. He had previously set the record at age 96. Aku\\u2026\",\n",
      "            \"url\": \"https://economictimes.indiatimes.com/news/international/world-news/102-year-old-becomes-oldest-person-to-summit-mount-fuji/articleshow/123725865.cms\",\n",
      "            \"urlToImage\": \"https://img.etimg.com/thumb/msid-123725872,width-1200,height-630,imgsize-136164,overlay-economictimes/articleshow.jpg\",\n",
      "            \"publishedAt\": \"2025-09-05T19:28:28Z\",\n",
      "            \"content\": \"Kokichi Akuzawa almost gave up during his trek to became the oldest person to summit Mount Fuji at age 102, an achievement recognized by Guinness World Records after he reached the top in early Augus\\u2026 [+3786 chars]\"\n",
      "        },\n",
      "        {\n",
      "            \"source\": {\n",
      "                \"id\": null,\n",
      "                \"name\": \"Newser\"\n",
      "            },\n",
      "            \"author\": \"Evann Gastaldo\",\n",
      "            \"title\": \"Man, 102, Is Once Again the Oldest to Summit Mount Fuji\",\n",
      "            \"description\": \"Kokichi Akuzawa almost gave up during his trek to became the oldest person to summit Mount Fuji at age 102, an achievement recognized by Guinness World Records after he reached the top in early August. \\\"I was really tempted to give up halfway through,\\\" Akuzaw\\u2026\",\n",
      "            \"url\": \"https://www.newser.com/story/374712/man-102-is-once-again-the-oldest-to-summit-mount-fuji.html\",\n",
      "            \"urlToImage\": \"https://img2-azrcdn.newser.com/image/1632219-12-20250905053702.jpeg\",\n",
      "            \"publishedAt\": \"2025-09-05T10:37:00Z\",\n",
      "            \"content\": \"Kokichi Akuzawa almost gave up during his trek to became the oldest person to summit Mount Fuji at age 102, an achievement recognized by Guinness World Records after he reached the top in early Augus\\u2026 [+1862 chars]\"\n",
      "        },\n",
      "        {\n",
      "            \"source\": {\n",
      "                \"id\": null,\n",
      "                \"name\": \"PetaPixel\"\n",
      "            },\n",
      "            \"author\": \"Taylor Passofaro\",\n",
      "            \"title\": \"The Best Cameras for Photography to Take On Long-Distance Backpacking\",\n",
      "            \"description\": \"I sat on the floor surrounded by backpacking gear like I was in the middle of a summoning circle, carefully setting a headlamp on a gram scale in front of me. 47 grams. Not bad. I kept weighing items one by one, trying to find any unnecessary weight to cut, b\\u2026\",\n",
      "            \"url\": \"https://petapixel.com/2025/09/24/the-best-cameras-for-photography-to-take-on-long-distance-backpacking/\",\n",
      "            \"urlToImage\": \"https://petapixel.com/assets/uploads/2025/09/The-Best-Camera-for-Photography-for-Ultra-Long-Backpacking-Trips.jpg\",\n",
      "            \"publishedAt\": \"2025-09-24T19:37:45Z\",\n",
      "            \"content\": \"The infamous LA Aquaduct at sunset, traditionally hiked at night to avoid the blistering heat\\r\\nI sat on the floor surrounded by backpacking gear like I was in the middle of a summoning circle, carefu\\u2026 [+13985 chars]\"\n",
      "        },\n",
      "        {\n",
      "            \"source\": {\n",
      "                \"id\": null,\n",
      "                \"name\": \"Stacker.com\"\n",
      "            },\n",
      "            \"author\": \"Liz Barrett Foster\",\n",
      "            \"title\": \"Best counties for retirees in America\",\n",
      "            \"description\": \"Stacker compiled a list of the best counties for retirees using 2025 data from Niche.\",\n",
      "            \"url\": \"https://stacker.com/stories/real-estate/best-counties-retirees-america\",\n",
      "            \"urlToImage\": \"https://bloximages.newyork1.vip.townnews.com/roanoke.com/content/tncms/assets/v3/editorial/c/32/c32b6fc1-6977-5871-845f-3fdea6598074/68d225dd55d93.image.png?crop=1280%2C672%2C0%2C23&resize=1200%2C630&order=crop%2Cresize\",\n",
      "            \"publishedAt\": \"2025-09-23T13:00:00Z\",\n",
      "            \"content\": \"Best counties for retirees in America\\r\\nFor many, retirement is an opportunity to live somewhere warmer and enjoy a perpetual summertime lifestyle. According to moving company HireAHelper's January 20\\u2026 [+23898 chars]\"\n",
      "        }\n",
      "    ]\n",
      "}\n"
     ]
    }
   ],
   "source": [
    "# Uncomment this line to inspect the full structure of the JSON dictionary\n",
    "print(json.dumps(myjson, indent=4))"
   ]
  },
  {
   "cell_type": "markdown",
   "id": "206e27f2-14c4-4497-bf40-c29ef1148d34",
   "metadata": {},
   "source": [
    "### Normalize JSON to DataFrame\n",
    "The key data is nested under the articles key. Pandas’ json_normalize() function flattens this nested data into a clean, tabular DataFrame."
   ]
  },
  {
   "cell_type": "code",
   "execution_count": 26,
   "id": "d7024cc7-939a-476f-8467-5d3f6bd58988",
   "metadata": {},
   "outputs": [
    {
     "name": "stdout",
     "output_type": "stream",
     "text": [
      "DataFrame created with 21 articles.\n",
      "First 5 rows of the DataFrame:\n"
     ]
    },
    {
     "data": {
      "text/html": [
       "<div>\n",
       "<style scoped>\n",
       "    .dataframe tbody tr th:only-of-type {\n",
       "        vertical-align: middle;\n",
       "    }\n",
       "\n",
       "    .dataframe tbody tr th {\n",
       "        vertical-align: top;\n",
       "    }\n",
       "\n",
       "    .dataframe thead th {\n",
       "        text-align: right;\n",
       "    }\n",
       "</style>\n",
       "<table border=\"1\" class=\"dataframe\">\n",
       "  <thead>\n",
       "    <tr style=\"text-align: right;\">\n",
       "      <th></th>\n",
       "      <th>author</th>\n",
       "      <th>title</th>\n",
       "      <th>description</th>\n",
       "      <th>url</th>\n",
       "      <th>urlToImage</th>\n",
       "      <th>publishedAt</th>\n",
       "      <th>content</th>\n",
       "      <th>source.id</th>\n",
       "      <th>source.name</th>\n",
       "    </tr>\n",
       "  </thead>\n",
       "  <tbody>\n",
       "    <tr>\n",
       "      <th>0</th>\n",
       "      <td>Lydia Mansel</td>\n",
       "      <td>This Historic Train Climbs the Tallest Mountai...</td>\n",
       "      <td>Riding the Mount Washington Cog Railway is one...</td>\n",
       "      <td>https://www.travelandleisure.com/mount-washing...</td>\n",
       "      <td>https://s.yimg.com/ny/api/res/1.2/JmSXRiaGiWkv...</td>\n",
       "      <td>2025-09-20T16:00:00Z</td>\n",
       "      <td>Key Points\\r\\n&lt;ul&gt;&lt;li&gt;The Mount Washington Cog...</td>\n",
       "      <td>None</td>\n",
       "      <td>Travel+Leisure</td>\n",
       "    </tr>\n",
       "    <tr>\n",
       "      <th>1</th>\n",
       "      <td>Express Web Desk</td>\n",
       "      <td>Polish skier becomes first to climb, ski down ...</td>\n",
       "      <td>In 2018, the Polish climber was the first pers...</td>\n",
       "      <td>https://indianexpress.com/article/world/polish...</td>\n",
       "      <td>https://images.indianexpress.com/2025/09/polan...</td>\n",
       "      <td>2025-09-28T04:50:59Z</td>\n",
       "      <td>Polish skier Andrzej Bargiel made history this...</td>\n",
       "      <td>None</td>\n",
       "      <td>The Indian Express</td>\n",
       "    </tr>\n",
       "    <tr>\n",
       "      <th>2</th>\n",
       "      <td>Georgie English</td>\n",
       "      <td>CLEAREST EVER SIGNS OF LIFE ON MARS...</td>\n",
       "      <td>NASA has revealed the clearest signs of life o...</td>\n",
       "      <td>https://www.the-sun.com/tech/15159152/nasa-mar...</td>\n",
       "      <td>https://www.the-sun.com/wp-content/uploads/sit...</td>\n",
       "      <td>2025-09-10T17:34:37Z</td>\n",
       "      <td>NASA has revealed the clearest signs of life o...</td>\n",
       "      <td>None</td>\n",
       "      <td>The-sun.com</td>\n",
       "    </tr>\n",
       "    <tr>\n",
       "      <th>3</th>\n",
       "      <td>ABC News</td>\n",
       "      <td>Sudan landslide claims 1,000 lives, village 'c...</td>\n",
       "      <td>The Sudan Liberation Movement/Army is appealin...</td>\n",
       "      <td>https://www.abc.net.au/news/2025-09-02/sudan-l...</td>\n",
       "      <td>https://live-production.wcms.abc-cdn.net.au/73...</td>\n",
       "      <td>2025-09-02T07:52:51Z</td>\n",
       "      <td>At least 1,000 people were killed in a landsli...</td>\n",
       "      <td>abc-news-au</td>\n",
       "      <td>ABC News (AU)</td>\n",
       "    </tr>\n",
       "    <tr>\n",
       "      <th>4</th>\n",
       "      <td>sascha.pare@futurenet.com (Sascha Pare) , Sasc...</td>\n",
       "      <td>The geology that holds up the Himalayas is not...</td>\n",
       "      <td>A 100-year-old theory explaining how Asia can ...</td>\n",
       "      <td>https://www.livescience.com/planet-earth/geolo...</td>\n",
       "      <td>https://cdn.mos.cms.futurecdn.net/KMwyEqed8eMT...</td>\n",
       "      <td>2025-08-30T15:50:00Z</td>\n",
       "      <td>Scientists may have just toppled a 100-year-ol...</td>\n",
       "      <td>None</td>\n",
       "      <td>Live Science</td>\n",
       "    </tr>\n",
       "  </tbody>\n",
       "</table>\n",
       "</div>"
      ],
      "text/plain": [
       "                                              author  \\\n",
       "0                                       Lydia Mansel   \n",
       "1                                   Express Web Desk   \n",
       "2                                    Georgie English   \n",
       "3                                           ABC News   \n",
       "4  sascha.pare@futurenet.com (Sascha Pare) , Sasc...   \n",
       "\n",
       "                                               title  \\\n",
       "0  This Historic Train Climbs the Tallest Mountai...   \n",
       "1  Polish skier becomes first to climb, ski down ...   \n",
       "2             CLEAREST EVER SIGNS OF LIFE ON MARS...   \n",
       "3  Sudan landslide claims 1,000 lives, village 'c...   \n",
       "4  The geology that holds up the Himalayas is not...   \n",
       "\n",
       "                                         description  \\\n",
       "0  Riding the Mount Washington Cog Railway is one...   \n",
       "1  In 2018, the Polish climber was the first pers...   \n",
       "2  NASA has revealed the clearest signs of life o...   \n",
       "3  The Sudan Liberation Movement/Army is appealin...   \n",
       "4  A 100-year-old theory explaining how Asia can ...   \n",
       "\n",
       "                                                 url  \\\n",
       "0  https://www.travelandleisure.com/mount-washing...   \n",
       "1  https://indianexpress.com/article/world/polish...   \n",
       "2  https://www.the-sun.com/tech/15159152/nasa-mar...   \n",
       "3  https://www.abc.net.au/news/2025-09-02/sudan-l...   \n",
       "4  https://www.livescience.com/planet-earth/geolo...   \n",
       "\n",
       "                                          urlToImage           publishedAt  \\\n",
       "0  https://s.yimg.com/ny/api/res/1.2/JmSXRiaGiWkv...  2025-09-20T16:00:00Z   \n",
       "1  https://images.indianexpress.com/2025/09/polan...  2025-09-28T04:50:59Z   \n",
       "2  https://www.the-sun.com/wp-content/uploads/sit...  2025-09-10T17:34:37Z   \n",
       "3  https://live-production.wcms.abc-cdn.net.au/73...  2025-09-02T07:52:51Z   \n",
       "4  https://cdn.mos.cms.futurecdn.net/KMwyEqed8eMT...  2025-08-30T15:50:00Z   \n",
       "\n",
       "                                             content    source.id  \\\n",
       "0  Key Points\\r\\n<ul><li>The Mount Washington Cog...         None   \n",
       "1  Polish skier Andrzej Bargiel made history this...         None   \n",
       "2  NASA has revealed the clearest signs of life o...         None   \n",
       "3  At least 1,000 people were killed in a landsli...  abc-news-au   \n",
       "4  Scientists may have just toppled a 100-year-ol...         None   \n",
       "\n",
       "          source.name  \n",
       "0      Travel+Leisure  \n",
       "1  The Indian Express  \n",
       "2         The-sun.com  \n",
       "3       ABC News (AU)  \n",
       "4        Live Science  "
      ]
     },
     "metadata": {},
     "output_type": "display_data"
    }
   ],
   "source": [
    "# Use json_normalize to extract the list of article dictionaries ('articles')\n",
    "news_df = pd.json_normalize(myjson, record_path = ['articles'])\n",
    "\n",
    "print(f\"DataFrame created with {len(news_df)} articles.\")\n",
    "print(\"First 5 rows of the DataFrame:\")\n",
    "display(news_df.head())"
   ]
  },
  {
   "cell_type": "markdown",
   "id": "ad96d273-19eb-476d-95b7-4ca9bbfca0e4",
   "metadata": {
    "tags": []
   },
   "source": [
    "---"
   ]
  },
  {
   "cell_type": "markdown",
   "id": "a5a91699-449d-4ef0-bca3-91a032365440",
   "metadata": {},
   "source": [
    "## Phase 4: Data Analysis and Export"
   ]
  },
  {
   "cell_type": "markdown",
   "id": "1031212a-e2a1-47dc-953d-0c00d212e977",
   "metadata": {},
   "source": [
    "### Clean and Prepare for Export\n",
    "Perform a final step to ensure the data is properly formatted before saving."
   ]
  },
  {
   "cell_type": "code",
   "execution_count": 27,
   "id": "40e76dd9-f0fe-45c5-84ab-c283c4c9953b",
   "metadata": {},
   "outputs": [
    {
     "name": "stdout",
     "output_type": "stream",
     "text": [
      "DataFrame prepared for export.\n"
     ]
    }
   ],
   "source": [
    "# Clean up the publishedAt column (convert to datetime)\n",
    "news_df['publishedAt'] = pd.to_datetime(news_df['publishedAt'])\n",
    "\n",
    "# Select a final set of columns for the CSV\n",
    "final_df = news_df[['publishedAt', 'title', 'description', 'url', 'source.name', 'author']].copy()\n",
    "\n",
    "print(\"DataFrame prepared for export.\")"
   ]
  },
  {
   "cell_type": "markdown",
   "id": "9a5e4a19-f79c-4c35-ac08-0fa00a08d926",
   "metadata": {},
   "source": [
    "### Export to CSV\n",
    "This is the final Load (L) phase of the data acquisition process."
   ]
  },
  {
   "cell_type": "code",
   "execution_count": 28,
   "id": "a8b0fb79-089b-4870-ba9c-284ba6d57cd6",
   "metadata": {},
   "outputs": [
    {
     "name": "stdout",
     "output_type": "stream",
     "text": [
      "Successfully exported 21 articles to news_articles_20250930_000036.csv\n"
     ]
    }
   ],
   "source": [
    "# Define a filename based on the current date for organization\n",
    "timestamp = datetime.now().strftime(\"%Y%m%d_%H%M%S\")\n",
    "output_filename = f'news_articles_{timestamp}.csv'\n",
    "\n",
    "# Export the final clean DataFrame to a CSV file\n",
    "final_df.to_csv(output_filename, index=False)\n",
    "\n",
    "print(f\"Successfully exported {len(final_df)} articles to {output_filename}\")"
   ]
  },
  {
   "cell_type": "markdown",
   "id": "5df09ae6-f075-4505-8cd1-55ea1bb048d7",
   "metadata": {},
   "source": [
    "---"
   ]
  },
  {
   "cell_type": "markdown",
   "id": "22debddc-6f42-4e65-b312-f197937142b3",
   "metadata": {},
   "source": [
    "## Function Definition (Optional Consolidation)\n",
    "This final cell provides the consolidation of all steps into a single, reusable function—demonstrating how a script would execute the entire API call process."
   ]
  },
  {
   "cell_type": "code",
   "execution_count": 29,
   "id": "19593a69-02c0-4e82-9a56-56a5412b7773",
   "metadata": {},
   "outputs": [],
   "source": [
    "def grab_latest_articles():\n",
    "    \"\"\"\n",
    "    Consolidates all steps: builds request, calls API, parses JSON, and returns a DataFrame.\n",
    "    \"\"\"\n",
    "    \n",
    "    # Prompt the user\n",
    "    topic = input(\"Please enter your topic of interest: \")\n",
    "    \n",
    "    # Build our Headers\n",
    "    newskey = os.getenv('newskey')\n",
    "    r = requests.get('https://httpbin.org/user-agent')\n",
    "    useragent = json.loads(r.text)['user-agent']\n",
    "    headers = {'User-agent': useragent,\n",
    "               'X-Api-Key': newskey}\n",
    "\n",
    "    # Build our URL and Parameters\n",
    "    root = 'https://newsapi.org'\n",
    "    endpoint = '/v2/everything'\n",
    "    params = {'q': topic,\n",
    "              'searchIn': 'content',\n",
    "              'language': 'en',\n",
    "              'pageSize': 100}\n",
    "    \n",
    "    # Submit our Request\n",
    "    r = requests.get(root + endpoint,\n",
    "                headers = headers,\n",
    "                params = params)\n",
    "    \n",
    "    # Create and return the pandas dataframe\n",
    "    myjson = json.loads(r.text)\n",
    "    news_df = pd.json_normalize(myjson, record_path = ['articles'])\n",
    "    \n",
    "    return news_df"
   ]
  },
  {
   "cell_type": "code",
   "execution_count": 31,
   "id": "5c57470e-0554-443d-8563-e9eb94fa87c1",
   "metadata": {},
   "outputs": [
    {
     "data": {
      "text/html": [
       "<div>\n",
       "<style scoped>\n",
       "    .dataframe tbody tr th:only-of-type {\n",
       "        vertical-align: middle;\n",
       "    }\n",
       "\n",
       "    .dataframe tbody tr th {\n",
       "        vertical-align: top;\n",
       "    }\n",
       "\n",
       "    .dataframe thead th {\n",
       "        text-align: right;\n",
       "    }\n",
       "</style>\n",
       "<table border=\"1\" class=\"dataframe\">\n",
       "  <thead>\n",
       "    <tr style=\"text-align: right;\">\n",
       "      <th></th>\n",
       "      <th>author</th>\n",
       "      <th>title</th>\n",
       "      <th>description</th>\n",
       "      <th>url</th>\n",
       "      <th>urlToImage</th>\n",
       "      <th>publishedAt</th>\n",
       "      <th>content</th>\n",
       "      <th>source.id</th>\n",
       "      <th>source.name</th>\n",
       "    </tr>\n",
       "  </thead>\n",
       "  <tbody>\n",
       "    <tr>\n",
       "      <th>0</th>\n",
       "      <td>Katie Barnes</td>\n",
       "      <td>Satou Sabally dug deep to push Mercury to Game...</td>\n",
       "      <td>After a dismal shooting performance in Game 1,...</td>\n",
       "      <td>https://www.espn.com/wnba/story/_/id/46306887/...</td>\n",
       "      <td>https://a2.espncdn.com/combiner/i?img=%2Fphoto...</td>\n",
       "      <td>2025-09-19T11:36:51Z</td>\n",
       "      <td>Satou Sabally rushed from the block to the win...</td>\n",
       "      <td>espn</td>\n",
       "      <td>ESPN</td>\n",
       "    </tr>\n",
       "    <tr>\n",
       "      <th>1</th>\n",
       "      <td>Courtney Cronin</td>\n",
       "      <td>Bears encouraged by QB Williams' growth in loss</td>\n",
       "      <td>Despite the blowout loss to the Lions, the Bea...</td>\n",
       "      <td>https://www.espn.com/nfl/story/_/id/46274532/b...</td>\n",
       "      <td>https://a1.espncdn.com/combiner/i?img=%2Fphoto...</td>\n",
       "      <td>2025-09-15T22:51:18Z</td>\n",
       "      <td>CHICAGO -- The Chicago Bears exited Week 2 wit...</td>\n",
       "      <td>espn</td>\n",
       "      <td>ESPN</td>\n",
       "    </tr>\n",
       "    <tr>\n",
       "      <th>2</th>\n",
       "      <td>Jenna Laine</td>\n",
       "      <td>'More wins': Mayfield hungry for more in Year ...</td>\n",
       "      <td>After a career year, Mayfield wants more than ...</td>\n",
       "      <td>https://www.espn.com/nfl/story/_/id/46216365/t...</td>\n",
       "      <td>https://a1.espncdn.com/combiner/i?img=%2Fphoto...</td>\n",
       "      <td>2025-09-15T11:20:30Z</td>\n",
       "      <td>TAMPA, Fla. -- Tampa Bay Buccaneers quarterbac...</td>\n",
       "      <td>espn</td>\n",
       "      <td>ESPN</td>\n",
       "    </tr>\n",
       "    <tr>\n",
       "      <th>3</th>\n",
       "      <td>None</td>\n",
       "      <td>Arch vows to be better as SEC play approaches</td>\n",
       "      <td>Texas quarterback Arch Manning says he and the...</td>\n",
       "      <td>https://www.espn.com/college-football/story/_/...</td>\n",
       "      <td>https://a.espncdn.com/combiner/i?img=%2Fphoto%...</td>\n",
       "      <td>2025-09-15T20:53:48Z</td>\n",
       "      <td>Sep 15, 2025, 04:33 PM ET\\r\\nTexas quarterback...</td>\n",
       "      <td>espn</td>\n",
       "      <td>ESPN</td>\n",
       "    </tr>\n",
       "    <tr>\n",
       "      <th>4</th>\n",
       "      <td>NFL Nation</td>\n",
       "      <td>Questions, takeaways off every NFL Week 1 game...</td>\n",
       "      <td>NFL Nation reporters react to all the action, ...</td>\n",
       "      <td>https://www.espn.com/nfl/story/_/id/46139954/n...</td>\n",
       "      <td>https://a4.espncdn.com/combiner/i?img=%2Fphoto...</td>\n",
       "      <td>2025-09-07T20:20:03Z</td>\n",
       "      <td>The opening week of the 2025 NFL season is und...</td>\n",
       "      <td>espn</td>\n",
       "      <td>ESPN</td>\n",
       "    </tr>\n",
       "    <tr>\n",
       "      <th>...</th>\n",
       "      <td>...</td>\n",
       "      <td>...</td>\n",
       "      <td>...</td>\n",
       "      <td>...</td>\n",
       "      <td>...</td>\n",
       "      <td>...</td>\n",
       "      <td>...</td>\n",
       "      <td>...</td>\n",
       "      <td>...</td>\n",
       "    </tr>\n",
       "    <tr>\n",
       "      <th>95</th>\n",
       "      <td>Rich Cimini</td>\n",
       "      <td>A historic rookie debut? What a youth movement...</td>\n",
       "      <td>All of New York's 2025 draft class got playing...</td>\n",
       "      <td>https://www.espn.com/nfl/story/_/id/46217230/n...</td>\n",
       "      <td>https://a3.espncdn.com/combiner/i?img=%2Fphoto...</td>\n",
       "      <td>2025-09-14T11:00:00Z</td>\n",
       "      <td>FLORHAM PARK, N.J. -- A look at what's happeni...</td>\n",
       "      <td>espn</td>\n",
       "      <td>ESPN</td>\n",
       "    </tr>\n",
       "    <tr>\n",
       "      <th>96</th>\n",
       "      <td>Morten Stig Jensen, Contributor, \\n Morten Sti...</td>\n",
       "      <td>2025-2026 NBA Preview: Southeast Division</td>\n",
       "      <td>The NBA season is approaching, and that means ...</td>\n",
       "      <td>https://www.forbes.com/sites/mortenjensen/2025...</td>\n",
       "      <td>https://imageio.forbes.com/specials-images/ima...</td>\n",
       "      <td>2025-09-28T01:36:50Z</td>\n",
       "      <td>ORLANDO, FLORIDA - APRIL 15: Trae Young #11 of...</td>\n",
       "      <td>None</td>\n",
       "      <td>Forbes</td>\n",
       "    </tr>\n",
       "    <tr>\n",
       "      <th>97</th>\n",
       "      <td>Gladys Louise Tyler, Contributor, \\n Gladys Lo...</td>\n",
       "      <td>NFL 2025 Week 1 DFS: 7 Things You Need To Know</td>\n",
       "      <td>Are you adding that extra layer to your fantas...</td>\n",
       "      <td>https://www.forbes.com/sites/gladyslouisetyler...</td>\n",
       "      <td>https://imageio.forbes.com/specials-images/ima...</td>\n",
       "      <td>2025-09-06T21:39:20Z</td>\n",
       "      <td>SANTA CLARA, CALIFORNIA - OCTOBER 01: Christia...</td>\n",
       "      <td>None</td>\n",
       "      <td>Forbes</td>\n",
       "    </tr>\n",
       "    <tr>\n",
       "      <th>98</th>\n",
       "      <td>Garry Kolb</td>\n",
       "      <td>Mileseey Golf GenePro G1 Touchscreen &amp; GPS Ran...</td>\n",
       "      <td>REVIEW – Lots of golfers love using GPS device...</td>\n",
       "      <td>https://the-gadgeteer.com/2025/09/20/mileseey-...</td>\n",
       "      <td>https://the-gadgeteer.com/wp-content/uploads/2...</td>\n",
       "      <td>2025-09-20T12:46:52Z</td>\n",
       "      <td>If you buy something from a link in this artic...</td>\n",
       "      <td>None</td>\n",
       "      <td>The Gadgeteer</td>\n",
       "    </tr>\n",
       "    <tr>\n",
       "      <th>99</th>\n",
       "      <td>Rich Cimini</td>\n",
       "      <td>Fields suffers concussion as Jets flattened by...</td>\n",
       "      <td>Jets quarterback Justin Fields suffered a conc...</td>\n",
       "      <td>https://www.espn.com/nfl/story/_/id/46262504/j...</td>\n",
       "      <td>https://a.espncdn.com/combiner/i?img=%2Fphoto%...</td>\n",
       "      <td>2025-09-14T22:37:35Z</td>\n",
       "      <td>EAST RUTHERFORD, N.J. -- New York Jets quarter...</td>\n",
       "      <td>espn</td>\n",
       "      <td>ESPN</td>\n",
       "    </tr>\n",
       "  </tbody>\n",
       "</table>\n",
       "<p>100 rows × 9 columns</p>\n",
       "</div>"
      ],
      "text/plain": [
       "                                               author  \\\n",
       "0                                        Katie Barnes   \n",
       "1                                     Courtney Cronin   \n",
       "2                                         Jenna Laine   \n",
       "3                                                None   \n",
       "4                                          NFL Nation   \n",
       "..                                                ...   \n",
       "95                                        Rich Cimini   \n",
       "96  Morten Stig Jensen, Contributor, \\n Morten Sti...   \n",
       "97  Gladys Louise Tyler, Contributor, \\n Gladys Lo...   \n",
       "98                                         Garry Kolb   \n",
       "99                                        Rich Cimini   \n",
       "\n",
       "                                                title  \\\n",
       "0   Satou Sabally dug deep to push Mercury to Game...   \n",
       "1     Bears encouraged by QB Williams' growth in loss   \n",
       "2   'More wins': Mayfield hungry for more in Year ...   \n",
       "3       Arch vows to be better as SEC play approaches   \n",
       "4   Questions, takeaways off every NFL Week 1 game...   \n",
       "..                                                ...   \n",
       "95  A historic rookie debut? What a youth movement...   \n",
       "96          2025-2026 NBA Preview: Southeast Division   \n",
       "97     NFL 2025 Week 1 DFS: 7 Things You Need To Know   \n",
       "98  Mileseey Golf GenePro G1 Touchscreen & GPS Ran...   \n",
       "99  Fields suffers concussion as Jets flattened by...   \n",
       "\n",
       "                                          description  \\\n",
       "0   After a dismal shooting performance in Game 1,...   \n",
       "1   Despite the blowout loss to the Lions, the Bea...   \n",
       "2   After a career year, Mayfield wants more than ...   \n",
       "3   Texas quarterback Arch Manning says he and the...   \n",
       "4   NFL Nation reporters react to all the action, ...   \n",
       "..                                                ...   \n",
       "95  All of New York's 2025 draft class got playing...   \n",
       "96  The NBA season is approaching, and that means ...   \n",
       "97  Are you adding that extra layer to your fantas...   \n",
       "98  REVIEW – Lots of golfers love using GPS device...   \n",
       "99  Jets quarterback Justin Fields suffered a conc...   \n",
       "\n",
       "                                                  url  \\\n",
       "0   https://www.espn.com/wnba/story/_/id/46306887/...   \n",
       "1   https://www.espn.com/nfl/story/_/id/46274532/b...   \n",
       "2   https://www.espn.com/nfl/story/_/id/46216365/t...   \n",
       "3   https://www.espn.com/college-football/story/_/...   \n",
       "4   https://www.espn.com/nfl/story/_/id/46139954/n...   \n",
       "..                                                ...   \n",
       "95  https://www.espn.com/nfl/story/_/id/46217230/n...   \n",
       "96  https://www.forbes.com/sites/mortenjensen/2025...   \n",
       "97  https://www.forbes.com/sites/gladyslouisetyler...   \n",
       "98  https://the-gadgeteer.com/2025/09/20/mileseey-...   \n",
       "99  https://www.espn.com/nfl/story/_/id/46262504/j...   \n",
       "\n",
       "                                           urlToImage           publishedAt  \\\n",
       "0   https://a2.espncdn.com/combiner/i?img=%2Fphoto...  2025-09-19T11:36:51Z   \n",
       "1   https://a1.espncdn.com/combiner/i?img=%2Fphoto...  2025-09-15T22:51:18Z   \n",
       "2   https://a1.espncdn.com/combiner/i?img=%2Fphoto...  2025-09-15T11:20:30Z   \n",
       "3   https://a.espncdn.com/combiner/i?img=%2Fphoto%...  2025-09-15T20:53:48Z   \n",
       "4   https://a4.espncdn.com/combiner/i?img=%2Fphoto...  2025-09-07T20:20:03Z   \n",
       "..                                                ...                   ...   \n",
       "95  https://a3.espncdn.com/combiner/i?img=%2Fphoto...  2025-09-14T11:00:00Z   \n",
       "96  https://imageio.forbes.com/specials-images/ima...  2025-09-28T01:36:50Z   \n",
       "97  https://imageio.forbes.com/specials-images/ima...  2025-09-06T21:39:20Z   \n",
       "98  https://the-gadgeteer.com/wp-content/uploads/2...  2025-09-20T12:46:52Z   \n",
       "99  https://a.espncdn.com/combiner/i?img=%2Fphoto%...  2025-09-14T22:37:35Z   \n",
       "\n",
       "                                              content source.id    source.name  \n",
       "0   Satou Sabally rushed from the block to the win...      espn           ESPN  \n",
       "1   CHICAGO -- The Chicago Bears exited Week 2 wit...      espn           ESPN  \n",
       "2   TAMPA, Fla. -- Tampa Bay Buccaneers quarterbac...      espn           ESPN  \n",
       "3   Sep 15, 2025, 04:33 PM ET\\r\\nTexas quarterback...      espn           ESPN  \n",
       "4   The opening week of the 2025 NFL season is und...      espn           ESPN  \n",
       "..                                                ...       ...            ...  \n",
       "95  FLORHAM PARK, N.J. -- A look at what's happeni...      espn           ESPN  \n",
       "96  ORLANDO, FLORIDA - APRIL 15: Trae Young #11 of...      None         Forbes  \n",
       "97  SANTA CLARA, CALIFORNIA - OCTOBER 01: Christia...      None         Forbes  \n",
       "98  If you buy something from a link in this artic...      None  The Gadgeteer  \n",
       "99  EAST RUTHERFORD, N.J. -- New York Jets quarter...      espn           ESPN  \n",
       "\n",
       "[100 rows x 9 columns]"
      ]
     },
     "execution_count": 31,
     "metadata": {},
     "output_type": "execute_result"
    }
   ],
   "source": [
    "grab_latest_articles()"
   ]
  },
  {
   "cell_type": "code",
   "execution_count": null,
   "id": "2d688c4a-c4dd-4b0e-9409-bf5384a1a964",
   "metadata": {},
   "outputs": [],
   "source": []
  }
 ],
 "metadata": {
  "kernelspec": {
   "display_name": "Python 3",
   "language": "python",
   "name": "python3"
  },
  "language_info": {
   "codemirror_mode": {
    "name": "ipython",
    "version": 3
   },
   "file_extension": ".py",
   "mimetype": "text/x-python",
   "name": "python",
   "nbconvert_exporter": "python",
   "pygments_lexer": "ipython3",
   "version": "3.12.1"
  }
 },
 "nbformat": 4,
 "nbformat_minor": 5
}
