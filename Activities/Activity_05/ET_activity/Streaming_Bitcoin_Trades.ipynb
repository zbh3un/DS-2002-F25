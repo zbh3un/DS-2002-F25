{
 "cells": [
  {
   "cell_type": "markdown",
   "id": "2585a550-e7aa-418d-83d0-e9c57376179c",
   "metadata": {},
   "source": [
    "# Streaming Data Acquisition - From Raw Stream to Clean CSV"
   ]
  },
  {
   "cell_type": "markdown",
   "id": "29d3c8c5-95a8-49f3-9266-a8b17fa4b61d",
   "metadata": {},
   "source": [
    "---"
   ]
  },
  {
   "cell_type": "markdown",
   "id": "ef8bb3af-2bd4-4e36-832e-ead621d2be0e",
   "metadata": {},
   "source": [
    "## Phase 1: Setup and Architecture"
   ]
  },
  {
   "cell_type": "markdown",
   "id": "55d2a359-8ae2-41dc-ab32-68b6116910f8",
   "metadata": {},
   "source": [
    "### Install the necessary libraries:\n",
    "1. **websocket-client**: To establish the persistent connection.\n",
    "2. **pandas**: To process, clean, and export the collected data."
   ]
  },
  {
   "cell_type": "code",
   "execution_count": 1,
   "id": "c81e1c80-cfc7-4dc4-8938-609f0c61cedb",
   "metadata": {},
   "outputs": [
    {
     "name": "stdout",
     "output_type": "stream",
     "text": [
      "Requirement already satisfied: websocket-client in /home/codespace/.local/lib/python3.12/site-packages (1.8.0)\n",
      "Requirement already satisfied: pandas in /home/codespace/.local/lib/python3.12/site-packages (2.3.1)\n",
      "Requirement already satisfied: numpy>=1.26.0 in /home/codespace/.local/lib/python3.12/site-packages (from pandas) (2.3.1)\n",
      "Requirement already satisfied: python-dateutil>=2.8.2 in /home/codespace/.local/lib/python3.12/site-packages (from pandas) (2.9.0.post0)\n",
      "Requirement already satisfied: pytz>=2020.1 in /home/codespace/.local/lib/python3.12/site-packages (from pandas) (2025.2)\n",
      "Requirement already satisfied: tzdata>=2022.7 in /home/codespace/.local/lib/python3.12/site-packages (from pandas) (2025.2)\n",
      "Requirement already satisfied: six>=1.5 in /home/codespace/.local/lib/python3.12/site-packages (from python-dateutil>=2.8.2->pandas) (1.17.0)\n",
      "\n",
      "\u001b[1m[\u001b[0m\u001b[34;49mnotice\u001b[0m\u001b[1;39;49m]\u001b[0m\u001b[39;49m A new release of pip is available: \u001b[0m\u001b[31;49m25.1.1\u001b[0m\u001b[39;49m -> \u001b[0m\u001b[32;49m25.2\u001b[0m\n",
      "\u001b[1m[\u001b[0m\u001b[34;49mnotice\u001b[0m\u001b[1;39;49m]\u001b[0m\u001b[39;49m To update, run: \u001b[0m\u001b[32;49mpython3 -m pip install --upgrade pip\u001b[0m\n",
      "Dependencies installed successfully.\n"
     ]
    }
   ],
   "source": [
    "!pip install websocket-client pandas\n",
    "print(\"Dependencies installed successfully.\")"
   ]
  },
  {
   "cell_type": "code",
   "execution_count": 2,
   "id": "80a6bcce-2e24-4aaf-ab2e-3d5f0a3100f5",
   "metadata": {},
   "outputs": [],
   "source": [
    "## Import all required Python modules"
   ]
  },
  {
   "cell_type": "code",
   "execution_count": 3,
   "id": "5b4bdeff-de71-45a3-986d-756d21ba7753",
   "metadata": {},
   "outputs": [
    {
     "name": "stdout",
     "output_type": "stream",
     "text": [
      "Modules imported.\n"
     ]
    }
   ],
   "source": [
    "import websocket\n",
    "import json\n",
    "import time\n",
    "import threading\n",
    "import pandas as pd\n",
    "from datetime import datetime\n",
    "\n",
    "print(\"Modules imported.\")"
   ]
  },
  {
   "cell_type": "markdown",
   "id": "353f7053-e9dc-4c7a-9a40-c8d341523da1",
   "metadata": {},
   "source": [
    "### Define Global Configuration and Storage\n",
    "This cell sets the target URL and initializes the empty list that will collect all the raw messages pushed from the server."
   ]
  },
  {
   "cell_type": "code",
   "execution_count": 4,
   "id": "8ace2364-d758-48d9-b045-7ec8a91b22f3",
   "metadata": {},
   "outputs": [
    {
     "name": "stdout",
     "output_type": "stream",
     "text": [
      "Target Stream URL set: wss://fstream.binance.com/ws/btcusdt@trade\n",
      "Raw data collector initialized.\n"
     ]
    }
   ],
   "source": [
    "# --- Configuration ---\n",
    "# Target URL for the Binance BTC/USDT trade stream (using the stable fstream endpoint)\n",
    "STREAM_URL = \"wss://fstream.binance.com/ws/btcusdt@trade\" \n",
    "\n",
    "# --- Global Storage ---\n",
    "# This list will collect every single message (event) pushed by the server.\n",
    "raw_data_collector = []\n",
    "\n",
    "print(f\"Target Stream URL set: {STREAM_URL}\")\n",
    "print(\"Raw data collector initialized.\")"
   ]
  },
  {
   "cell_type": "markdown",
   "id": "06ded109-6002-4020-85d5-0282207d7cf0",
   "metadata": {},
   "source": [
    "### Define the `on_open` Callback\n",
    "This function runs only once when the persistent connection is successfully established."
   ]
  },
  {
   "cell_type": "code",
   "execution_count": 5,
   "id": "18044616-d33d-4356-b261-4abb69783b34",
   "metadata": {},
   "outputs": [
    {
     "name": "stdout",
     "output_type": "stream",
     "text": [
      "on_open callback defined.\n"
     ]
    }
   ],
   "source": [
    "def on_open(ws):\n",
    "    \"\"\"Callback: Executed when the connection handshake is successful.\"\"\"\n",
    "    print(\"--- Connection Established. Starting Real-Time Data Stream ---\")\n",
    "    \n",
    "print(\"on_open callback defined.\")"
   ]
  },
  {
   "cell_type": "markdown",
   "id": "4903a7b6-7098-474d-9308-35e8ebf46be9",
   "metadata": {},
   "source": [
    "### Define the `on_error` and `on_close` Callbacks\n",
    "These functions handle connection failures and the graceful shutdown of the stream."
   ]
  },
  {
   "cell_type": "code",
   "execution_count": 6,
   "id": "328b3edf-fc61-47a9-9ce2-972276adeb0e",
   "metadata": {},
   "outputs": [
    {
     "name": "stdout",
     "output_type": "stream",
     "text": [
      "on_error and on_close callbacks defined.\n"
     ]
    }
   ],
   "source": [
    "def on_error(ws, error):\n",
    "    \"\"\"Callback: Executed if an error occurs during the connection.\"\"\"\n",
    "    print(f\"--- Connection Error: {error} ---\")\n",
    "\n",
    "def on_close(ws, close_status_code, close_msg):\n",
    "    \"\"\"Callback: Executed when the connection is intentionally closed.\"\"\"\n",
    "    print(\"--- Connection Closed ---\")\n",
    "    \n",
    "print(\"on_error and on_close callbacks defined.\")"
   ]
  },
  {
   "cell_type": "markdown",
   "id": "13483a46-cbb1-4d22-bb77-87a0f87c7077",
   "metadata": {},
   "source": [
    "### Define the `on_message` Callback (Raw Capture Logic)\n",
    "This is the most critical function. It runs for every incoming message. For the first run, we will not filter anything."
   ]
  },
  {
   "cell_type": "code",
   "execution_count": 7,
   "id": "ca8cfc51-e89a-4d06-88ad-9e85a2c6afdd",
   "metadata": {},
   "outputs": [
    {
     "name": "stdout",
     "output_type": "stream",
     "text": [
      "on_message callback defined for RAW data capture.\n"
     ]
    }
   ],
   "source": [
    "def on_message(ws, message):\n",
    "    \"\"\"Callback: Executed for EVERY message pushed by the server.\"\"\"\n",
    "    global raw_data_collector\n",
    "    \n",
    "    try:\n",
    "        data = json.loads(message)\n",
    "        \n",
    "        # 1. Store the RAW, unfiltered message dictionary\n",
    "        raw_data_collector.append(data)\n",
    "        \n",
    "        # 2. Extract and format key fields for immediate screen output\n",
    "        trade_time = datetime.fromtimestamp(data['E'] / 1000).strftime('%H:%M:%S')\n",
    "        price = float(data.get('p', 0))\n",
    "        volume = float(data.get('q', 0))\n",
    "        \n",
    "        # Print everything that comes in, including potential 0-value keep-alives\n",
    "        print(f\"[{trade_time}] RAW Trade: Price=${price:,.2f} | Volume={volume}\")\n",
    "\n",
    "    except Exception as e:\n",
    "        # Ignore errors from malformed JSON (rare, but possible)\n",
    "        pass \n",
    "    \n",
    "print(\"on_message callback defined for RAW data capture.\")"
   ]
  },
  {
   "cell_type": "markdown",
   "id": "969aa15f-659b-4d13-981e-a3eeff7ff2d4",
   "metadata": {},
   "source": [
    "---"
   ]
  },
  {
   "cell_type": "markdown",
   "id": "6db8f0a1-8103-40b3-826d-9dfb631875a7",
   "metadata": {},
   "source": [
    "## Phase 2: RAW Stream Capture and Observation"
   ]
  },
  {
   "cell_type": "markdown",
   "id": "c9c44252-2e39-45d2-b3fe-9c682796424d",
   "metadata": {},
   "source": [
    "### Create the WebSocket Client Object"
   ]
  },
  {
   "cell_type": "code",
   "execution_count": 8,
   "id": "4489777c-ed4d-45ea-b8e4-0a82e3c479de",
   "metadata": {},
   "outputs": [
    {
     "name": "stdout",
     "output_type": "stream",
     "text": [
      "WebSocket client object created, ready to connect.\n"
     ]
    }
   ],
   "source": [
    "# Clear the collector list before starting a new run\n",
    "raw_data_collector = []\n",
    "\n",
    "# Create the WebSocketApp instance, linking the URL to the callback functions\n",
    "ws = websocket.WebSocketApp(\n",
    "    STREAM_URL,\n",
    "    on_message=on_message,\n",
    "    on_open=on_open,\n",
    "    on_error=on_error,\n",
    "    on_close=on_close\n",
    ")\n",
    "\n",
    "print(\"WebSocket client object created, ready to connect.\")"
   ]
  },
  {
   "cell_type": "markdown",
   "id": "948a3f4e-cf4f-4a40-90b9-180b598674fa",
   "metadata": {},
   "source": [
    "### Start, Run, and Close the Stream Listener\n",
    "This cell starts the connection in a separate thread and uses time.sleep() to control the duration."
   ]
  },
  {
   "cell_type": "code",
   "execution_count": null,
   "id": "e7a536da-1822-4850-a631-d7322758ce61",
   "metadata": {},
   "outputs": [
    {
     "name": "stdout",
     "output_type": "stream",
     "text": [
      "Starting RAW stream listener for 15 seconds. OBSERVE THE OUTPUT CAREFULLY.\n",
      "--- Connection Established. Starting Real-Time Data Stream ---\n",
      "[00:06:22] RAW Trade: Price=$114,244.00 | Volume=0.047\n",
      "[00:06:22] RAW Trade: Price=$114,244.00 | Volume=0.002\n",
      "[00:06:22] RAW Trade: Price=$114,244.00 | Volume=0.008\n",
      "[00:06:22] RAW Trade: Price=$114,244.00 | Volume=0.002\n",
      "[00:06:22] RAW Trade: Price=$114,244.00 | Volume=0.807\n",
      "[00:06:22] RAW Trade: Price=$114,244.00 | Volume=0.002\n",
      "[00:06:23] RAW Trade: Price=$114,243.90 | Volume=0.364\n",
      "[00:06:23] RAW Trade: Price=$114,244.00 | Volume=0.002\n",
      "[00:06:24] RAW Trade: Price=$114,244.00 | Volume=0.002\n",
      "[00:06:24] RAW Trade: Price=$114,244.00 | Volume=0.019\n",
      "[00:06:24] RAW Trade: Price=$114,243.90 | Volume=0.009\n",
      "[00:06:24] RAW Trade: Price=$114,244.00 | Volume=0.002\n",
      "[00:06:24] RAW Trade: Price=$114,243.90 | Volume=0.002\n",
      "[00:06:25] RAW Trade: Price=$114,243.90 | Volume=0.001\n",
      "[00:06:25] RAW Trade: Price=$114,244.00 | Volume=0.044\n",
      "[00:06:25] RAW Trade: Price=$114,244.00 | Volume=0.023\n",
      "[00:06:25] RAW Trade: Price=$114,243.90 | Volume=0.001\n",
      "[00:06:25] RAW Trade: Price=$114,244.00 | Volume=0.047\n",
      "[00:06:26] RAW Trade: Price=$114,243.90 | Volume=0.01\n",
      "[00:06:26] RAW Trade: Price=$114,244.00 | Volume=0.002\n",
      "[00:06:26] RAW Trade: Price=$114,244.00 | Volume=0.074\n",
      "[00:06:26] RAW Trade: Price=$114,244.00 | Volume=0.028\n",
      "[00:06:26] RAW Trade: Price=$114,244.00 | Volume=0.013\n",
      "[00:06:26] RAW Trade: Price=$114,244.00 | Volume=0.002\n",
      "[00:06:28] RAW Trade: Price=$114,244.00 | Volume=0.034\n",
      "[00:06:28] RAW Trade: Price=$114,243.90 | Volume=0.003\n",
      "[00:06:28] RAW Trade: Price=$114,244.00 | Volume=0.04\n",
      "[00:06:28] RAW Trade: Price=$114,244.00 | Volume=0.002\n",
      "[00:06:28] RAW Trade: Price=$114,244.00 | Volume=0.009\n",
      "[00:06:28] RAW Trade: Price=$114,243.90 | Volume=0.01\n",
      "[00:06:29] RAW Trade: Price=$114,244.00 | Volume=0.019\n",
      "[00:06:29] RAW Trade: Price=$114,244.00 | Volume=0.001\n",
      "[00:06:29] RAW Trade: Price=$114,243.90 | Volume=0.003\n",
      "[00:06:29] RAW Trade: Price=$114,243.90 | Volume=0.001\n",
      "[00:06:30] RAW Trade: Price=$114,244.00 | Volume=0.003\n",
      "[00:06:30] RAW Trade: Price=$114,243.90 | Volume=0.001\n",
      "[00:06:30] RAW Trade: Price=$114,244.00 | Volume=0.012\n",
      "[00:06:31] RAW Trade: Price=$114,243.90 | Volume=0.001\n",
      "[00:06:31] RAW Trade: Price=$114,244.00 | Volume=0.087\n",
      "[00:06:31] RAW Trade: Price=$114,243.90 | Volume=0.01\n",
      "[00:06:31] RAW Trade: Price=$114,244.00 | Volume=0.001\n",
      "[00:06:31] RAW Trade: Price=$114,244.00 | Volume=0.003\n",
      "[00:06:32] RAW Trade: Price=$0.00 | Volume=0.0\n",
      "[00:06:32] RAW Trade: Price=$114,244.00 | Volume=0.013\n",
      "[00:06:32] RAW Trade: Price=$114,244.00 | Volume=0.168\n",
      "[00:06:32] RAW Trade: Price=$114,244.00 | Volume=0.002\n",
      "[00:06:33] RAW Trade: Price=$0.00 | Volume=0.0\n",
      "[00:06:34] RAW Trade: Price=$114,244.00 | Volume=0.019\n",
      "[00:06:34] RAW Trade: Price=$114,243.90 | Volume=0.001\n",
      "[00:06:34] RAW Trade: Price=$114,244.00 | Volume=0.171\n",
      "[00:06:34] RAW Trade: Price=$114,243.90 | Volume=0.004\n",
      "[00:06:35] RAW Trade: Price=$114,244.00 | Volume=0.012\n",
      "[00:06:35] RAW Trade: Price=$114,244.00 | Volume=0.101\n",
      "[00:06:35] RAW Trade: Price=$114,244.00 | Volume=0.002\n",
      "[00:06:35] RAW Trade: Price=$114,244.00 | Volume=0.001\n",
      "[00:06:35] RAW Trade: Price=$114,243.90 | Volume=0.002\n",
      "Time's up. Attempting to close connection...\n",
      "\n",
      "Finished RAW capture. Collected 56 total raw messages.\n"
     ]
    },
    {
     "name": "stdout",
     "output_type": "stream",
     "text": [
      "--- Connection Closed ---\n"
     ]
    }
   ],
   "source": [
    "print(\"Starting RAW stream listener for 15 seconds. OBSERVE THE OUTPUT CAREFULLY.\")\n",
    "\n",
    "# Run the socket connection in a separate thread\n",
    "wst = threading.Thread(target=ws.run_forever)\n",
    "wst.daemon = True\n",
    "wst.start()\n",
    "\n",
    "# Hold the main thread execution for 15 seconds\n",
    "time.sleep(15) \n",
    "\n",
    "print(\"Time's up. Attempting to close connection...\")\n",
    "\n",
    "# Close the connection gracefully.\n",
    "ws.close() \n",
    "\n",
    "print(f\"\\nFinished RAW capture. Collected {len(raw_data_collector)} total raw messages.\")"
   ]
  },
  {
   "cell_type": "markdown",
   "id": "a2edd780-15c6-4fc8-9e9a-7a4fe9078b66",
   "metadata": {},
   "source": [
    "### Commentary - Why the $0 Trades?\n",
    "\n",
    "--- Observation: The Data Quality Problem ---\n",
    "\n",
    "You should have observed several messages showing Price=$0.00 or Volume=0.\n",
    "\n",
    "These are **Keep-Alive (Ping/Pong) Messages**. They are network heartbeats, NOT valid trades.\n",
    "\n",
    "If we analyzed this raw data, the 0-values would skew our average price and volume calculations.\n",
    "\n",
    "Our next step is to apply a **Filter** to discard them."
   ]
  },
  {
   "cell_type": "markdown",
   "id": "57005e18-ec21-4b3e-990e-0e8aade7ca31",
   "metadata": {},
   "source": [
    "---"
   ]
  },
  {
   "cell_type": "markdown",
   "id": "39274e5c-955c-47c3-a13b-e4d8b037155d",
   "metadata": {},
   "source": [
    "## Phase 3: Data Transformation and Export"
   ]
  },
  {
   "cell_type": "markdown",
   "id": "cbed78c7-eae0-40bc-af70-130485ae7568",
   "metadata": {},
   "source": [
    "### Load Raw Data into Pandas\n",
    "This is the start of the Transformation (T) phase from ETL."
   ]
  },
  {
   "cell_type": "code",
   "execution_count": 10,
   "id": "7d5e45ae-c8fa-49ab-bed9-4d76727024e3",
   "metadata": {},
   "outputs": [
    {
     "name": "stdout",
     "output_type": "stream",
     "text": [
      "DataFrame loaded with 56 raw messages.\n",
      "Raw DataFrame columns:\n",
      "['e', 'E', 'T', 's', 't', 'p', 'q', 'X', 'm']\n"
     ]
    },
    {
     "data": {
      "text/html": [
       "<div>\n",
       "<style scoped>\n",
       "    .dataframe tbody tr th:only-of-type {\n",
       "        vertical-align: middle;\n",
       "    }\n",
       "\n",
       "    .dataframe tbody tr th {\n",
       "        vertical-align: top;\n",
       "    }\n",
       "\n",
       "    .dataframe thead th {\n",
       "        text-align: right;\n",
       "    }\n",
       "</style>\n",
       "<table border=\"1\" class=\"dataframe\">\n",
       "  <thead>\n",
       "    <tr style=\"text-align: right;\">\n",
       "      <th></th>\n",
       "      <th>e</th>\n",
       "      <th>E</th>\n",
       "      <th>T</th>\n",
       "      <th>s</th>\n",
       "      <th>t</th>\n",
       "      <th>p</th>\n",
       "      <th>q</th>\n",
       "      <th>X</th>\n",
       "      <th>m</th>\n",
       "    </tr>\n",
       "  </thead>\n",
       "  <tbody>\n",
       "    <tr>\n",
       "      <th>0</th>\n",
       "      <td>trade</td>\n",
       "      <td>1759190782372</td>\n",
       "      <td>1759190782371</td>\n",
       "      <td>BTCUSDT</td>\n",
       "      <td>6666783623</td>\n",
       "      <td>114244.00</td>\n",
       "      <td>0.047</td>\n",
       "      <td>MARKET</td>\n",
       "      <td>False</td>\n",
       "    </tr>\n",
       "    <tr>\n",
       "      <th>1</th>\n",
       "      <td>trade</td>\n",
       "      <td>1759190782436</td>\n",
       "      <td>1759190782436</td>\n",
       "      <td>BTCUSDT</td>\n",
       "      <td>6666783624</td>\n",
       "      <td>114244.00</td>\n",
       "      <td>0.002</td>\n",
       "      <td>MARKET</td>\n",
       "      <td>False</td>\n",
       "    </tr>\n",
       "    <tr>\n",
       "      <th>2</th>\n",
       "      <td>trade</td>\n",
       "      <td>1759190782466</td>\n",
       "      <td>1759190782466</td>\n",
       "      <td>BTCUSDT</td>\n",
       "      <td>6666783625</td>\n",
       "      <td>114244.00</td>\n",
       "      <td>0.008</td>\n",
       "      <td>MARKET</td>\n",
       "      <td>False</td>\n",
       "    </tr>\n",
       "    <tr>\n",
       "      <th>3</th>\n",
       "      <td>trade</td>\n",
       "      <td>1759190782763</td>\n",
       "      <td>1759190782763</td>\n",
       "      <td>BTCUSDT</td>\n",
       "      <td>6666783626</td>\n",
       "      <td>114244.00</td>\n",
       "      <td>0.002</td>\n",
       "      <td>MARKET</td>\n",
       "      <td>False</td>\n",
       "    </tr>\n",
       "    <tr>\n",
       "      <th>4</th>\n",
       "      <td>trade</td>\n",
       "      <td>1759190782807</td>\n",
       "      <td>1759190782807</td>\n",
       "      <td>BTCUSDT</td>\n",
       "      <td>6666783627</td>\n",
       "      <td>114244.00</td>\n",
       "      <td>0.807</td>\n",
       "      <td>MARKET</td>\n",
       "      <td>False</td>\n",
       "    </tr>\n",
       "  </tbody>\n",
       "</table>\n",
       "</div>"
      ],
      "text/plain": [
       "       e              E              T        s           t          p      q  \\\n",
       "0  trade  1759190782372  1759190782371  BTCUSDT  6666783623  114244.00  0.047   \n",
       "1  trade  1759190782436  1759190782436  BTCUSDT  6666783624  114244.00  0.002   \n",
       "2  trade  1759190782466  1759190782466  BTCUSDT  6666783625  114244.00  0.008   \n",
       "3  trade  1759190782763  1759190782763  BTCUSDT  6666783626  114244.00  0.002   \n",
       "4  trade  1759190782807  1759190782807  BTCUSDT  6666783627  114244.00  0.807   \n",
       "\n",
       "        X      m  \n",
       "0  MARKET  False  \n",
       "1  MARKET  False  \n",
       "2  MARKET  False  \n",
       "3  MARKET  False  \n",
       "4  MARKET  False  "
      ]
     },
     "metadata": {},
     "output_type": "display_data"
    }
   ],
   "source": [
    "# Convert the list of dictionaries collected in Phase 2 into a Pandas DataFrame\n",
    "df_raw = pd.DataFrame(raw_data_collector)\n",
    "\n",
    "print(f\"DataFrame loaded with {len(df_raw)} raw messages.\")\n",
    "print(\"Raw DataFrame columns:\")\n",
    "print(df_raw.columns.tolist())\n",
    "display(df_raw.head())"
   ]
  },
  {
   "cell_type": "markdown",
   "id": "239b1b30-53f9-4031-bcaf-042fa5eb2cd2",
   "metadata": {},
   "source": [
    "### Data Preparation (Type Conversion)\n",
    "The price and volume columns were read as strings or objects. We must convert them to numeric types before filtering."
   ]
  },
  {
   "cell_type": "code",
   "execution_count": 11,
   "id": "8755f2ec-5e8f-40ab-acc6-62a7be926f3d",
   "metadata": {},
   "outputs": [
    {
     "name": "stdout",
     "output_type": "stream",
     "text": [
      "Price ('p') and Volume ('q') columns converted to numeric (float).\n"
     ]
    }
   ],
   "source": [
    "# Convert price ('p') and volume ('q') columns to numeric types.\n",
    "df_raw['p'] = pd.to_numeric(df_raw['p'], errors='coerce')\n",
    "df_raw['q'] = pd.to_numeric(df_raw['q'], errors='coerce')\n",
    "\n",
    "print(\"Price ('p') and Volume ('q') columns converted to numeric (float).\")"
   ]
  },
  {
   "cell_type": "markdown",
   "id": "88befe35-73f6-4dfa-8105-1d0376ed1083",
   "metadata": {},
   "source": [
    "### Apply the Cleaning Filter\n",
    "This cell applies the filter to eliminate the keep-alive messages."
   ]
  },
  {
   "cell_type": "code",
   "execution_count": 12,
   "id": "9de3ddd1-a4db-4d9d-ad89-4e03c57f876f",
   "metadata": {},
   "outputs": [
    {
     "name": "stdout",
     "output_type": "stream",
     "text": [
      "Messages before filtering: 56\n",
      "Messages after filtering: 54\n",
      "Successfully filtered out 2 keep-alive messages.\n"
     ]
    },
    {
     "data": {
      "text/html": [
       "<div>\n",
       "<style scoped>\n",
       "    .dataframe tbody tr th:only-of-type {\n",
       "        vertical-align: middle;\n",
       "    }\n",
       "\n",
       "    .dataframe tbody tr th {\n",
       "        vertical-align: top;\n",
       "    }\n",
       "\n",
       "    .dataframe thead th {\n",
       "        text-align: right;\n",
       "    }\n",
       "</style>\n",
       "<table border=\"1\" class=\"dataframe\">\n",
       "  <thead>\n",
       "    <tr style=\"text-align: right;\">\n",
       "      <th></th>\n",
       "      <th>e</th>\n",
       "      <th>E</th>\n",
       "      <th>T</th>\n",
       "      <th>s</th>\n",
       "      <th>t</th>\n",
       "      <th>p</th>\n",
       "      <th>q</th>\n",
       "      <th>X</th>\n",
       "      <th>m</th>\n",
       "    </tr>\n",
       "  </thead>\n",
       "  <tbody>\n",
       "    <tr>\n",
       "      <th>0</th>\n",
       "      <td>trade</td>\n",
       "      <td>1759190782372</td>\n",
       "      <td>1759190782371</td>\n",
       "      <td>BTCUSDT</td>\n",
       "      <td>6666783623</td>\n",
       "      <td>114244.0</td>\n",
       "      <td>0.047</td>\n",
       "      <td>MARKET</td>\n",
       "      <td>False</td>\n",
       "    </tr>\n",
       "    <tr>\n",
       "      <th>1</th>\n",
       "      <td>trade</td>\n",
       "      <td>1759190782436</td>\n",
       "      <td>1759190782436</td>\n",
       "      <td>BTCUSDT</td>\n",
       "      <td>6666783624</td>\n",
       "      <td>114244.0</td>\n",
       "      <td>0.002</td>\n",
       "      <td>MARKET</td>\n",
       "      <td>False</td>\n",
       "    </tr>\n",
       "    <tr>\n",
       "      <th>2</th>\n",
       "      <td>trade</td>\n",
       "      <td>1759190782466</td>\n",
       "      <td>1759190782466</td>\n",
       "      <td>BTCUSDT</td>\n",
       "      <td>6666783625</td>\n",
       "      <td>114244.0</td>\n",
       "      <td>0.008</td>\n",
       "      <td>MARKET</td>\n",
       "      <td>False</td>\n",
       "    </tr>\n",
       "    <tr>\n",
       "      <th>3</th>\n",
       "      <td>trade</td>\n",
       "      <td>1759190782763</td>\n",
       "      <td>1759190782763</td>\n",
       "      <td>BTCUSDT</td>\n",
       "      <td>6666783626</td>\n",
       "      <td>114244.0</td>\n",
       "      <td>0.002</td>\n",
       "      <td>MARKET</td>\n",
       "      <td>False</td>\n",
       "    </tr>\n",
       "    <tr>\n",
       "      <th>4</th>\n",
       "      <td>trade</td>\n",
       "      <td>1759190782807</td>\n",
       "      <td>1759190782807</td>\n",
       "      <td>BTCUSDT</td>\n",
       "      <td>6666783627</td>\n",
       "      <td>114244.0</td>\n",
       "      <td>0.807</td>\n",
       "      <td>MARKET</td>\n",
       "      <td>False</td>\n",
       "    </tr>\n",
       "  </tbody>\n",
       "</table>\n",
       "</div>"
      ],
      "text/plain": [
       "       e              E              T        s           t         p      q  \\\n",
       "0  trade  1759190782372  1759190782371  BTCUSDT  6666783623  114244.0  0.047   \n",
       "1  trade  1759190782436  1759190782436  BTCUSDT  6666783624  114244.0  0.002   \n",
       "2  trade  1759190782466  1759190782466  BTCUSDT  6666783625  114244.0  0.008   \n",
       "3  trade  1759190782763  1759190782763  BTCUSDT  6666783626  114244.0  0.002   \n",
       "4  trade  1759190782807  1759190782807  BTCUSDT  6666783627  114244.0  0.807   \n",
       "\n",
       "        X      m  \n",
       "0  MARKET  False  \n",
       "1  MARKET  False  \n",
       "2  MARKET  False  \n",
       "3  MARKET  False  \n",
       "4  MARKET  False  "
      ]
     },
     "metadata": {},
     "output_type": "display_data"
    }
   ],
   "source": [
    "print(f\"Messages before filtering: {len(df_raw)}\")\n",
    "\n",
    "# --- APPLY THE DATA QUALITY FILTER ---\n",
    "# A valid trade must have a positive price AND a positive volume.\n",
    "df_clean = df_raw[(df_raw['p'] > 0) & (df_raw['q'] > 0)].copy()\n",
    "\n",
    "print(f\"Messages after filtering: {len(df_clean)}\")\n",
    "print(f\"Successfully filtered out {len(df_raw) - len(df_clean)} keep-alive messages.\")\n",
    "\n",
    "display(df_clean.head())"
   ]
  },
  {
   "cell_type": "markdown",
   "id": "9f48a5a8-ae79-4a52-9721-7a66f047ae29",
   "metadata": {},
   "source": [
    "### Add Human-Readable Columns\n",
    "The raw data uses short keys like 'E' (Event Time) and 's' (Symbol). We create descriptive columns for the final CSV."
   ]
  },
  {
   "cell_type": "code",
   "execution_count": 13,
   "id": "e647fcec-c0c8-4ece-b486-e9befc755b74",
   "metadata": {},
   "outputs": [
    {
     "name": "stdout",
     "output_type": "stream",
     "text": [
      "Human-readable columns (Trade_Time, Price_USD, Volume_BTC) created.\n"
     ]
    }
   ],
   "source": [
    "# Convert 'E' (milliseconds since epoch) to a readable timestamp\n",
    "df_clean['Trade_Time'] = pd.to_datetime(df_clean['E'], unit='ms')\n",
    "\n",
    "# Create descriptive columns\n",
    "df_clean['Price_USD'] = df_clean['p']\n",
    "df_clean['Volume_BTC'] = df_clean['q']\n",
    "\n",
    "print(\"Human-readable columns (Trade_Time, Price_USD, Volume_BTC) created.\")"
   ]
  },
  {
   "cell_type": "markdown",
   "id": "4b70e43a-d007-4eed-acc8-61dd40ebcab2",
   "metadata": {},
   "source": [
    "### Select Final Columns\n",
    "Select only the essential, clean, and formatted columns for the final file."
   ]
  },
  {
   "cell_type": "code",
   "execution_count": 14,
   "id": "2fff5fdf-cacd-4dc7-8276-9b298d1e7447",
   "metadata": {},
   "outputs": [
    {
     "name": "stdout",
     "output_type": "stream",
     "text": [
      "Final DataFrame structure prepared.\n"
     ]
    },
    {
     "data": {
      "text/html": [
       "<div>\n",
       "<style scoped>\n",
       "    .dataframe tbody tr th:only-of-type {\n",
       "        vertical-align: middle;\n",
       "    }\n",
       "\n",
       "    .dataframe tbody tr th {\n",
       "        vertical-align: top;\n",
       "    }\n",
       "\n",
       "    .dataframe thead th {\n",
       "        text-align: right;\n",
       "    }\n",
       "</style>\n",
       "<table border=\"1\" class=\"dataframe\">\n",
       "  <thead>\n",
       "    <tr style=\"text-align: right;\">\n",
       "      <th></th>\n",
       "      <th>Trade_Time</th>\n",
       "      <th>Price_USD</th>\n",
       "      <th>Volume_BTC</th>\n",
       "      <th>Symbol</th>\n",
       "    </tr>\n",
       "  </thead>\n",
       "  <tbody>\n",
       "    <tr>\n",
       "      <th>0</th>\n",
       "      <td>2025-09-30 00:06:22.372</td>\n",
       "      <td>114244.0</td>\n",
       "      <td>0.047</td>\n",
       "      <td>BTCUSDT</td>\n",
       "    </tr>\n",
       "    <tr>\n",
       "      <th>1</th>\n",
       "      <td>2025-09-30 00:06:22.436</td>\n",
       "      <td>114244.0</td>\n",
       "      <td>0.002</td>\n",
       "      <td>BTCUSDT</td>\n",
       "    </tr>\n",
       "    <tr>\n",
       "      <th>2</th>\n",
       "      <td>2025-09-30 00:06:22.466</td>\n",
       "      <td>114244.0</td>\n",
       "      <td>0.008</td>\n",
       "      <td>BTCUSDT</td>\n",
       "    </tr>\n",
       "    <tr>\n",
       "      <th>3</th>\n",
       "      <td>2025-09-30 00:06:22.763</td>\n",
       "      <td>114244.0</td>\n",
       "      <td>0.002</td>\n",
       "      <td>BTCUSDT</td>\n",
       "    </tr>\n",
       "    <tr>\n",
       "      <th>4</th>\n",
       "      <td>2025-09-30 00:06:22.807</td>\n",
       "      <td>114244.0</td>\n",
       "      <td>0.807</td>\n",
       "      <td>BTCUSDT</td>\n",
       "    </tr>\n",
       "  </tbody>\n",
       "</table>\n",
       "</div>"
      ],
      "text/plain": [
       "               Trade_Time  Price_USD  Volume_BTC   Symbol\n",
       "0 2025-09-30 00:06:22.372   114244.0       0.047  BTCUSDT\n",
       "1 2025-09-30 00:06:22.436   114244.0       0.002  BTCUSDT\n",
       "2 2025-09-30 00:06:22.466   114244.0       0.008  BTCUSDT\n",
       "3 2025-09-30 00:06:22.763   114244.0       0.002  BTCUSDT\n",
       "4 2025-09-30 00:06:22.807   114244.0       0.807  BTCUSDT"
      ]
     },
     "metadata": {},
     "output_type": "display_data"
    }
   ],
   "source": [
    "# Select and rename final columns for a clean output structure\n",
    "df_final = df_clean[['Trade_Time', 'Price_USD', 'Volume_BTC', 's']].rename(\n",
    "    columns={'s': 'Symbol'}\n",
    ")\n",
    "\n",
    "print(\"Final DataFrame structure prepared.\")\n",
    "display(df_final.head())"
   ]
  },
  {
   "cell_type": "markdown",
   "id": "dde9209c-8de8-4124-9562-4ab8dc66d193",
   "metadata": {},
   "source": [
    "### Export to CSV\n",
    "This is the Load (L) phase of ETL."
   ]
  },
  {
   "cell_type": "code",
   "execution_count": 15,
   "id": "0f281df3-dd83-4182-9c27-2ccdebc9903d",
   "metadata": {},
   "outputs": [
    {
     "name": "stdout",
     "output_type": "stream",
     "text": [
      "--- Load Phase Complete ---\n",
      "Clean, filtered stream data successfully exported to: btc_usdt_stream_clean.csv\n"
     ]
    }
   ],
   "source": [
    "# Define the output filename\n",
    "output_filename = 'btc_usdt_stream_clean.csv'\n",
    "\n",
    "# Export the clean DataFrame to a CSV file without the pandas index\n",
    "df_final.to_csv(output_filename, index=False)\n",
    "\n",
    "print(f\"--- Load Phase Complete ---\")\n",
    "print(f\"Clean, filtered stream data successfully exported to: {output_filename}\")"
   ]
  }
 ],
 "metadata": {
  "kernelspec": {
   "display_name": "Python 3",
   "language": "python",
   "name": "python3"
  },
  "language_info": {
   "codemirror_mode": {
    "name": "ipython",
    "version": 3
   },
   "file_extension": ".py",
   "mimetype": "text/x-python",
   "name": "python",
   "nbconvert_exporter": "python",
   "pygments_lexer": "ipython3",
   "version": "3.12.1"
  }
 },
 "nbformat": 4,
 "nbformat_minor": 5
}
